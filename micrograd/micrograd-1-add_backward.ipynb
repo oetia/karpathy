{
 "cells": [
  {
   "cell_type": "code",
   "execution_count": 7,
   "metadata": {},
   "outputs": [],
   "source": [
    "from __future__ import annotations"
   ]
  },
  {
   "cell_type": "code",
   "execution_count": 14,
   "metadata": {},
   "outputs": [],
   "source": [
    "class Value:\n",
    "  def __init__(self, data) -> None:\n",
    "    self.data =data \n",
    "    self.grad = 0 # gradient w.r.t to the target\n",
    "    self._backward = lambda: None # calculates gradients of parents\n",
    "\n",
    "\n",
    "  def __repr__(self) -> str:\n",
    "    return f\"Value(data={self.data})\"\n",
    "  \n",
    "  # when backwards called on new node, want to calculate gradients for parents\n",
    "  # you know the derivative of the parent node wrt to the child node\n",
    "  \n",
    "  def __add__(self, other: Value):\n",
    "    father = self\n",
    "    mother = other\n",
    "    child = Value(self.data + other.data)\n",
    "    def _backward():\n",
    "      dchild_dfather = 1\n",
    "      dchild_dmother = 1\n",
    "      father.grad += dchild_dfather * child.grad\n",
    "      mother.grad += dchild_dmother * child.grad\n",
    "    child._backward = _backward\n",
    "    return child\n",
    "  \n",
    "  def backward(self): # defines this node to be the target\n",
    "    pass"
   ]
  },
  {
   "cell_type": "code",
   "execution_count": 15,
   "metadata": {},
   "outputs": [
    {
     "data": {
      "text/plain": [
       "(20, 20, 20)"
      ]
     },
     "execution_count": 15,
     "metadata": {},
     "output_type": "execute_result"
    }
   ],
   "source": [
    "a = Value(2)\n",
    "b = Value(3)\n",
    "c = a + b\n",
    "c.grad = 20\n",
    "c._backward()\n",
    "a.grad, b.grad, c.grad"
   ]
  },
  {
   "cell_type": "code",
   "execution_count": null,
   "metadata": {},
   "outputs": [],
   "source": [
    "\n"
   ]
  }
 ],
 "metadata": {
  "kernelspec": {
   "display_name": "3.11.2",
   "language": "python",
   "name": "python3"
  },
  "language_info": {
   "codemirror_mode": {
    "name": "ipython",
    "version": 3
   },
   "file_extension": ".py",
   "mimetype": "text/x-python",
   "name": "python",
   "nbconvert_exporter": "python",
   "pygments_lexer": "ipython3",
   "version": "3.11.2"
  }
 },
 "nbformat": 4,
 "nbformat_minor": 2
}
