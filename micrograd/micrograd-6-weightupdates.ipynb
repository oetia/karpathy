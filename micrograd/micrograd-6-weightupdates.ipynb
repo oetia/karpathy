{
 "cells": [
  {
   "cell_type": "code",
   "execution_count": 1,
   "metadata": {},
   "outputs": [],
   "source": [
    "from __future__ import annotations"
   ]
  },
  {
   "cell_type": "code",
   "execution_count": 2,
   "metadata": {},
   "outputs": [],
   "source": [
    "class Value:\n",
    "  def __init__(self, data: float, father: Value = None, mother: Value = None) -> None:\n",
    "    self.name = \"\"\n",
    "    self.data = data\n",
    "    self.father: Value = father\n",
    "    self.mother: Value = mother\n",
    "    self.grad = 0 # gradient w.r.t to the target\n",
    "    self.traversed = False\n",
    "    self._backward = lambda: None # calculates gradients of parents\n",
    "    self._zero_grad = lambda: None # zeros out gradients of parents\n",
    "\n",
    "\n",
    "  def __repr__(self) -> str:\n",
    "    return f\"Value(data={self.data})\"\n",
    "  \n",
    "  # when backwards called on new node, want to calculate gradients for parents\n",
    "  # you know the derivative of the parent node wrt to the child node\n",
    "  \n",
    "  def __add__(self, other: Value):\n",
    "    father = self; mother = other\n",
    "    child = Value(self.data + other.data, father, mother)\n",
    "    def _backward():\n",
    "      dchild_dfather = 1\n",
    "      dchild_dmother = 1\n",
    "      father.grad += dchild_dfather * child.grad\n",
    "      mother.grad += dchild_dmother * child.grad\n",
    "    def _zero_grad():\n",
    "      father.grad = 0; father.traversed = False\n",
    "      mother.grad = 0; mother.traversed = False\n",
    "    child._backward = _backward\n",
    "    child._zero_grad = _zero_grad\n",
    "    return child\n",
    "  \n",
    "  def __sub__(self, other: Value):\n",
    "    return self + (-other)\n",
    "  \n",
    "  def __mul__(self, other: Value):\n",
    "    father = self; mother = other\n",
    "    child = Value(father.data * mother.data, father, mother)\n",
    "    def _backward():\n",
    "      dchild_dfather = mother.data\n",
    "      dchild_dmother = father.data\n",
    "      father.grad += dchild_dfather * child.grad\n",
    "      mother.grad += dchild_dmother * child.grad\n",
    "    def _zero_grad():\n",
    "      father.grad = 0; father.traversed = False\n",
    "      mother.grad = 0; mother.traversed = False\n",
    "    child._backward = _backward\n",
    "    child._zero_grad = _zero_grad\n",
    "    return child\n",
    "  \n",
    "  def __truediv__(self, other: Value):\n",
    "    return self * (other ** -1)\n",
    "  \n",
    "  def __neg__(self):\n",
    "    father = self\n",
    "    child = Value(-father.data, father)\n",
    "    def _backward():\n",
    "      dchild_dfather = -1\n",
    "      father.grad += dchild_dfather * child.grad\n",
    "    def _zero_grad():\n",
    "      father.grad = 0; father.traversed = False\n",
    "    child._backward = _backward\n",
    "    child._zero_grad = _zero_grad\n",
    "    return child\n",
    "  \n",
    "  def __pow__(self, other: float):\n",
    "    father = self\n",
    "    child = Value(father.data ** other, father)\n",
    "    def _backward():\n",
    "      dchild_dfather = other * father.data ** (other - 1)\n",
    "      father.grad += dchild_dfather * child.grad\n",
    "    def _zero_grad():\n",
    "      father.grad = 0; father.traversed = False\n",
    "    child._backward = _backward\n",
    "    child._zero_grad = _zero_grad\n",
    "    return child\n",
    "\n",
    "\n",
    "  def backward(self): # defines this node to be the target. derivative of all nodes in graph wrt to this node. \n",
    "    # edge cases to consider: \n",
    "    # 1. _backward() should only be called when a node's gradient wrt to target is fully computed. i.e. when all it's children have had their _backward's called. EX: a -> b -> c & a -> c. target order is c, b, a but _backward could be called on a before b. b is a's kid. the gradient of a wrt to c is not fully computed.\n",
    "    # 2. _backward should only be called once per node. need some kind of cycle detection. a node could have multiple children, so it could be visited multiple times. just tracking count won't be good enough. need to consider if there's a duplicate visit from the same path. \n",
    "\n",
    "    # could do reverse dfs. root is last to be marked as traversed. if reversing order, it will be called before any of it's children can be called. dfs traverses all children before marking parent as traversed. reversing this means that parent is marked as traversed before any of it's children. this behavior is desirable for topological sorting. from perspective of root, but can be applied to any node b.c. recursive. \n",
    "    # a b c -> c b a. regardless of the path that is taken, b's child, a will always be traversed before b, even if a isn't reached through b. reversing order, a's parents will always be traversed before a.\n",
    "    # adding a traversed variable, so you don't have to check the list. having extra indicator variables save so much computation. \n",
    "\n",
    "    dfs_order = []\n",
    "    def dfs(node: Value):\n",
    "      if node.father:\n",
    "        dfs(node.father)\n",
    "      if node.mother:\n",
    "        dfs(node.mother)\n",
    "      if not node.traversed: # i forgor traversal check\n",
    "        dfs_order.append(node)\n",
    "        node.traversed = True\n",
    "    dfs(self)\n",
    "\n",
    "    self.grad = 1 # derivative wrt to self is 1\n",
    "    topological_order = dfs_order[::-1]\n",
    "\n",
    "    print(dfs_order)\n",
    "    print(topological_order)\n",
    "\n",
    "    for node in topological_order:\n",
    "      node._backward()\n",
    "\n",
    "  def zero_grad(self): # zeros out gradients of ancestors\n",
    "    self.grad = 0; self.traversed = False\n",
    "    def dfs(node: Value):\n",
    "      if node.father:\n",
    "        dfs(node.father)\n",
    "      if node.mother:\n",
    "        dfs(node.mother)\n",
    "      node._zero_grad()"
   ]
  },
  {
   "cell_type": "code",
   "execution_count": 92,
   "metadata": {},
   "outputs": [
    {
     "name": "stdout",
     "output_type": "stream",
     "text": [
      "[Value(data=-6), Value(data=36), Value(data=6), Value(data=42)]\n",
      "[Value(data=42), Value(data=6), Value(data=36), Value(data=-6)]\n"
     ]
    },
    {
     "data": {
      "text/plain": [
       "(-13, 1)"
      ]
     },
     "execution_count": 92,
     "metadata": {},
     "output_type": "execute_result"
    }
   ],
   "source": [
    "a = Value(-6)\n",
    "b = a**2 - a\n",
    "b.backward()\n",
    "a.grad, b.grad"
   ]
  },
  {
   "cell_type": "code",
   "execution_count": 96,
   "metadata": {},
   "outputs": [
    {
     "data": {
      "text/plain": [
       "(Value(data=2), Value(data=3), Value(data=-6), Value(data=36), Value(data=42))"
      ]
     },
     "execution_count": 96,
     "metadata": {},
     "output_type": "execute_result"
    }
   ],
   "source": [
    "a = Value(2); a.name = \"a\"\n",
    "b = Value(3); b.name = \"b\"\n",
    "c = a * -b; c.name = \"c\"\n",
    "d = c ** 2; d.name = \"d\"\n",
    "e = d - c; e.name = \"e\"\n",
    "a, b, c, d, e"
   ]
  },
  {
   "cell_type": "code",
   "execution_count": 98,
   "metadata": {},
   "outputs": [
    {
     "name": "stdout",
     "output_type": "stream",
     "text": [
      "[]\n",
      "[]\n"
     ]
    },
    {
     "data": {
      "text/plain": [
       "(39, 26, -13, 1, 1)"
      ]
     },
     "execution_count": 98,
     "metadata": {},
     "output_type": "execute_result"
    }
   ],
   "source": [
    "# c.grad = 1 # FUCK ME. THIS WAS THE ISSUE ALL ALONG. Forgot to comment out a line. which then made c gradient 1 higher. i thought the -1 wasn't being applied. it was. \n",
    "e.backward()\n",
    "a.grad, b.grad, c.grad, d.grad, e.grad\n",
    "\n",
    "# e: 1, d: 1, c: (2*-6 * 1 + -1) = -13, b: 26, a: 39"
   ]
  },
  {
   "cell_type": "code",
   "execution_count": null,
   "metadata": {},
   "outputs": [],
   "source": [
    "# all in all, my reasoning was actually on point. the only real mistake i made was forgetting to add traversed var. \n",
    "# the mistake i spent the most time on was just thinking that the -1 wasn't being applied from sub. what happened was that i forgot to uncomment out code that set c.grad to 1, which then meant that the -1 was being applied, but it was 1 + -13 = 12, which effectively canceled it out. i was not expecting the bug to be here and subsequently wasted a ton of time looking elsewhere. \n",
    "# the debugger gave me a massive hint of c.grad being 1 when e's _backward() was called. i was very confused and just was looking for the bug in the wrong place. \n",
    "# the way i ended up fixing this was through just running the error in isolation with new variables and seeing that the result was correct. that led me to know that my backprop calculations were actually correct and that the error was somewhere else. "
   ]
  },
  {
   "cell_type": "code",
   "execution_count": 37,
   "metadata": {},
   "outputs": [],
   "source": [
    "import random\n",
    "\n",
    "class Neuron:\n",
    "  def __init__(self, n_inputs: int):\n",
    "    self.weights = [Value(random.uniform(-1, 1)) for _ in range(n_inputs)]\n",
    "    self.bias = Value(random.uniform(-1, 1))\n",
    "\n",
    "  def __call__(self, inputs: list[Value]):\n",
    "    return sum([weight * input for weight, input in zip(self.weights, inputs)], self.bias)\n",
    "  \n",
    "  def get_weights(self) -> list[Value]:\n",
    "    return self.weights + [self.bias]\n",
    "  \n",
    "  def get_gradients(self) -> list[int]:\n",
    "    return [weight.grad for weight in self.get_weights()]\n",
    "  \n",
    "  # implemented zero grad with dfs from target. \n",
    "  # def zero_grad(self):\n",
    "  #   for weight in self.get_weights():\n",
    "  #     weight.zero_grad()\n",
    "  \n",
    "class Layer:\n",
    "  def __init__(self, n_inputs: int, n_neurons: int):\n",
    "    self.neurons = [Neuron(n_inputs) for _ in range(n_neurons)]\n",
    "  \n",
    "  def __call__(self, inputs: list[Value]):\n",
    "    return [neuron(inputs) for neuron in self.neurons]\n",
    "  \n",
    "  def get_weights(self) -> list[Value]:\n",
    "    accumulator_list = []\n",
    "    for neuron in self.neurons:\n",
    "      accumulator_list += neuron.get_weights()\n",
    "    return accumulator_list\n",
    "  \n",
    "  def get_gradients(self) -> list[int]:\n",
    "    accumulator_list = []\n",
    "    for neuron in self.neurons:\n",
    "      accumulator_list += neuron.get_gradients()\n",
    "    return accumulator_list\n",
    "  \n",
    "  \n",
    "\n",
    "class MLP:\n",
    "  def __init__(self, n_inputs: int, layer_neuron_counts: list[int]):\n",
    "    self.layers = [Layer(n_inputs, layer_neuron_counts[0])]\n",
    "    for i in range(1, len(layer_neuron_counts)):\n",
    "      self.layers.append(Layer(layer_neuron_counts[i-1], layer_neuron_counts[i]))\n",
    "\n",
    "  def __call__(self, inputs: list[Value]):\n",
    "    for layer in self.layers:\n",
    "      inputs = layer(inputs)\n",
    "    return inputs\n",
    "  \n",
    "  def get_weights(self) -> list[Value]:\n",
    "    accumulator_list = []\n",
    "    for layer in self.layers:\n",
    "      accumulator_list += layer.get_weights()\n",
    "    return accumulator_list\n",
    "  \n",
    "  def get_gradients(self) -> list[int]:\n",
    "    accumulator_list = []\n",
    "    for layer in self.layers:\n",
    "      accumulator_list += layer.get_gradients()\n",
    "    return accumulator_list"
   ]
  },
  {
   "cell_type": "code",
   "execution_count": 38,
   "metadata": {},
   "outputs": [
    {
     "data": {
      "text/plain": [
       "(50, 50)"
      ]
     },
     "execution_count": 38,
     "metadata": {},
     "output_type": "execute_result"
    }
   ],
   "source": [
    "n = Neuron(2)\n",
    "layer = Layer(2, 3)\n",
    "nn = MLP(2, [3, 4, 5])\n",
    "len(nn.get_weights()), len(nn.get_gradients())"
   ]
  },
  {
   "cell_type": "code",
   "execution_count": 46,
   "metadata": {},
   "outputs": [],
   "source": [
    "xs = [\n",
    "  [Value(2.0), Value(3.0), Value(-1.0)],\n",
    "  [Value(3.0), Value(-1.0), Value(0.5)],\n",
    "  [Value(0.5), Value(1.0), Value(1.0)],\n",
    "  [Value(1.0), Value(1.0), Value(-1.0)]\n",
    "]\n",
    "ys = [[Value(1.0)], [Value(-1.0)], [Value(-1.0)], [Value(1.0)]]"
   ]
  },
  {
   "cell_type": "code",
   "execution_count": 47,
   "metadata": {},
   "outputs": [],
   "source": [
    "mlp = MLP(3, [4, 4, 1])\n",
    "preds = [mlp(x) for x in xs]"
   ]
  },
  {
   "cell_type": "code",
   "execution_count": 48,
   "metadata": {},
   "outputs": [
    {
     "data": {
      "text/plain": [
       "Value(data=18.47478973109362)"
      ]
     },
     "execution_count": 48,
     "metadata": {},
     "output_type": "execute_result"
    }
   ],
   "source": [
    "loss = Value(0)\n",
    "for pred, target in zip(preds, ys):\n",
    "  example_squared_error = Value(0)\n",
    "  for idx in range(len(pred)): # compare each element\n",
    "    example_squared_error += (pred[idx] - target[idx]) ** 2\n",
    "  loss += example_squared_error\n",
    "\n",
    "loss"
   ]
  },
  {
   "cell_type": "code",
   "execution_count": 60,
   "metadata": {},
   "outputs": [
    {
     "name": "stdout",
     "output_type": "stream",
     "text": [
      "[Value(data=0), Value(data=0), Value(data=1.7613822362361928), Value(data=1.2701192112277044), Value(data=-0.34137882614086834), Value(data=0.9287403850868361), Value(data=1.0118053528104518), Value(data=1.940545737897288), Value(data=0.21829016290834333), Value(data=0.6188437091520453), Value(data=1.4677240672794283), Value(data=1.1296439575595607), Value(data=-3.84749352902505), Value(data=-2.7178495714654893), Value(data=0.34485799421340235), Value(data=-2.372991577252087), Value(data=0.11766455768644887), Value(data=0.7365082668384942), Value(data=-1.969093771370893), Value(data=-1.2956473388895753), Value(data=0.7137540816476307), Value(data=-0.5818932572419446), Value(data=-0.5346138377350409), Value(data=-1.1165070949769855), Value(data=-0.4754274273193303), Value(data=0.26108083951916394), Value(data=0.5587857834852374), Value(data=0.38556285578401295), Value(data=1.442981505424242), Value(data=1.828544361208255), Value(data=-0.6129934271003112), Value(data=1.2155509341079438), Value(data=0.6764085959867857), Value(data=0.9374894355059497), Value(data=0.04788456349512039), Value(data=-0.07544196238144524), Value(data=-0.4324414387784363), Value(data=-0.8789802171145058), Value(data=0.5416791444062038), Value(data=-0.337301072708302), Value(data=-0.057865960425054035), Value(data=-0.39516703313335605), Value(data=-0.5046247300343866), Value(data=-0.8997917631677426), Value(data=-0.138505440101702), Value(data=-0.21394740248314723), Value(data=-0.9465825768180046), Value(data=-0.7199121338304344), Value(data=-0.9376517593419414), Value(data=-1.6575638931723757), Value(data=1.0412297352394095), Value(data=-0.6163341579329662), Value(data=0.6844032765892379), Value(data=0.06806911865627174), Value(data=0.007831308498187667), Value(data=-0.20611609398495956), Value(data=0.8503796187156782), Value(data=1.3317650109084107), Value(data=2.8594196471314306), Value(data=4.191184658039841), Value(data=0.6533735291880608), Value(data=4.844558187227902), Value(data=-0.001032776863919171), Value(data=4.843525410363982), Value(data=1.890618636242664), Value(data=1.6845025422577045), Value(data=-1.0), Value(data=0.6845025422577045), Value(data=0.4685437303572605), Value(data=0.4685437303572605), Value(data=0.4685437303572605), Value(data=0), Value(data=2.6420733543542894), Value(data=2.1508103293458007), Value(data=0.11379294204695611), Value(data=2.264603271392757), Value(data=-0.5059026764052259), Value(data=1.758700594987531), Value(data=0.19783457400123824), Value(data=0.5983881202449403), Value(data=2.201586100919142), Value(data=1.8635059911992746), Value(data=1.28249784300835), Value(data=3.1460038342076246), Value(data=-0.17242899710670118), Value(data=2.9735748371009234), Value(data=-0.14744442049819614), Value(data=0.4509436997467441), Value(data=-2.953640657056339), Value(data=-2.2801942245750215), Value(data=-0.23791802721587688), Value(data=-2.5181122517908983), Value(data=0.26730691886752045), Value(data=-2.250805332923378), Value(data=-0.9584306213929147), Value(data=-0.5074869216461706), Value(data=0.8381786752278562), Value(data=0.6649557475266317), Value(data=-0.48099383514141403), Value(data=0.18396191238521764), Value(data=0.3064967135501556), Value(data=0.49045862593537326), Value(data=0.27292186715484335), Value(data=-0.23456505449132725), Value(data=-0.011980983273123028), Value(data=-0.13530750914968864), Value(data=-0.39191810882076444), Value(data=-0.8384568871568339), Value(data=-0.6787733631376203), Value(data=-1.5172302502944541), Value(data=-0.11665399432336745), Value(data=-1.6338842446178217), Value(data=-0.2036093632615279), Value(data=-1.8374936078793496), Value(data=-0.28284639986857507), Value(data=-0.4181539090182637), Value(data=-0.8578799811534097), Value(data=-0.6312095381658396), Value(data=1.174963158011418), Value(data=0.5437536198455784), Value(data=2.0990510955271344), Value(data=2.642804715372713), Value(data=0.2761476143885028), Value(data=2.9189523297612157), Value(data=0.33582359573796977), Value(data=-0.08233031328029394), Value(data=0.7706920337889467), Value(data=1.2520774259816791), Value(data=-3.583113565564404), Value(data=-2.331036139582725), Value(data=1.3171583328969076), Value(data=-1.0138778066858174), Value(data=-0.0004167117208851235), Value(data=-1.0142945184067025), Value(data=-0.39591907890793576), Value(data=-0.4782493921882297), Value(data=1.0), Value(data=0.5217506078117703), Value(data=0.27222369675195174), Value(data=0.27222369675195174), Value(data=0.7407674271092122), Value(data=0), Value(data=0.4403455590590482), Value(data=-0.0509174659494403), Value(data=-0.11379294204695611), Value(data=-0.1647104079963964), Value(data=-1.0118053528104518), Value(data=-1.1765157608068482), Value(data=-0.13234515016844908), Value(data=0.26820839607525293), Value(data=0.36693101681985707), Value(data=0.028850907099989387), Value(data=-1.28249784300835), Value(data=-1.2536469359083606), Value(data=-0.34485799421340235), Value(data=-1.5985049301217629), Value(data=0.07926171224770608), Value(data=0.347470108322959), Value(data=-0.49227344284272323), Value(data=0.1811729896385943), Value(data=0.23791802721587688), Value(data=0.41909101685447114), Value(data=0.5346138377350409), Value(data=0.953704854589512), Value(data=0.40610350572720183), Value(data=0.7535736140501608), Value(data=0.13969644587130936), Value(data=-0.03352648182991516), Value(data=0.48099383514141403), Value(data=0.4474673533114989), Value(data=0.6129934271003112), Value(data=1.0604607804118102), Value(data=0.5901067305779433), Value(data=1.343680344628104), Value(data=0.0686317566285592), Value(data=-0.05469476924800641), Value(data=0.26218097229705656), Value(data=-0.18435780603901292), Value(data=0.36488826643040023), Value(data=0.18053046039138732), Value(data=0.04942829975836041), Value(data=0.22995876014974773), Value(data=-0.44024048685387573), Value(data=-0.210281726704128), Value(data=-0.03236878163894844), Value(data=-0.08706355088695486), Value(data=0.5738949094486571), Value(data=0.8005653524362273), Value(data=-0.6316250653451914), Value(data=0.16894028709103592), Value(data=-0.8894039793461825), Value(data=-0.7204636922551466), Value(data=0.5970813829704745), Value(data=-0.12338230928467209), Value(data=-0.014195055647867477), Value(data=-0.10125860653482234), Value(data=-0.515568896186908), Value(data=-0.034183503994175635), Value(data=1.9261747268903433), Value(data=1.8919912228961677), Value(data=-0.5581025946456527), Value(data=1.3338886282505151), Value(data=-0.00090100655461775), Value(data=1.3329876216958974), Value(data=0.5203175426862606), Value(data=0.4190589361514383), Value(data=1.0), Value(data=1.4190589361514383), Value(data=2.013728264271252), Value(data=2.013728264271252), Value(data=2.7544956913804644), Value(data=0), Value(data=0.8806911181180964), Value(data=0.3894280931096079), Value(data=-0.11379294204695611), Value(data=0.2756351510626518), Value(data=1.0118053528104518), Value(data=1.2874405038731036), Value(data=0.14482297007324363), Value(data=0.5453765163169457), Value(data=0.7338620336397141), Value(data=0.39578192391984646), Value(data=-1.28249784300835), Value(data=-0.8867159190885036), Value(data=0.34485799421340235), Value(data=-0.5418579248751012), Value(data=0.026867972760845904), Value(data=0.5722444890777916), Value(data=-0.9845468856854465), Value(data=-0.31110045320412893), Value(data=0.23791802721587688), Value(data=-0.07318242598825206), Value(data=-0.5346138377350409), Value(data=-0.607796263723293), Value(data=-0.258809832285233), Value(data=0.31343465679255855), Value(data=0.2793928917426187), Value(data=0.1061699640413942), Value(data=0.48099383514141403), Value(data=0.5871637991828083), Value(data=-0.6129934271003112), Value(data=-0.025829627917502984), Value(data=-0.014373221116695532), Value(data=0.299061435675863), Value(data=0.015275293526730991), Value(data=-0.10805123234983463), Value(data=-0.2869000266078697), Value(data=-0.7334388049439391), Value(data=0.12368907667002878), Value(data=-0.6097497282739103), Value(data=-0.03150066372290518), Value(data=-0.6412503919968154), Value(data=0.01072293118208498), Value(data=-0.6305274608147304), Value(data=-0.09705743821092551), Value(data=-0.20510867056076015), Value(data=-0.6280031054442357), Value(data=-0.4013326624566655), Value(data=-0.21410697005543505), Value(data=-0.6154396325121005), Value(data=0.5668173051503552), Value(data=-0.04862232736174532), Value(data=-0.014543102624320027), Value(data=-0.06316542998606535), Value(data=-0.007267142257849316), Value(data=-0.21237581281860948), Value(data=0.5641779750004936), Value(data=1.045563367193226), Value(data=0.6529307609831165), Value(data=1.6984941281763426), Value(data=0.35567887713637053), Value(data=2.054173005312713), Value(data=2.19458036420454e-05), Value(data=2.054194951116355), Value(data=0.8018331541620457), Value(data=0.5894573413434362), Value(data=-1.0), Value(data=-0.4105426586565638), Value(data=0.16854527457679985), Value(data=0.16854527457679985), Value(data=2.9230409659572643)]\n",
      "[Value(data=2.9230409659572643), Value(data=0.16854527457679985), Value(data=0.16854527457679985), Value(data=-0.4105426586565638), Value(data=-1.0), Value(data=0.5894573413434362), Value(data=0.8018331541620457), Value(data=2.054194951116355), Value(data=2.19458036420454e-05), Value(data=2.054173005312713), Value(data=0.35567887713637053), Value(data=1.6984941281763426), Value(data=0.6529307609831165), Value(data=1.045563367193226), Value(data=0.5641779750004936), Value(data=-0.21237581281860948), Value(data=-0.007267142257849316), Value(data=-0.06316542998606535), Value(data=-0.014543102624320027), Value(data=-0.04862232736174532), Value(data=0.5668173051503552), Value(data=-0.6154396325121005), Value(data=-0.21410697005543505), Value(data=-0.4013326624566655), Value(data=-0.6280031054442357), Value(data=-0.20510867056076015), Value(data=-0.09705743821092551), Value(data=-0.6305274608147304), Value(data=0.01072293118208498), Value(data=-0.6412503919968154), Value(data=-0.03150066372290518), Value(data=-0.6097497282739103), Value(data=0.12368907667002878), Value(data=-0.7334388049439391), Value(data=-0.2869000266078697), Value(data=-0.10805123234983463), Value(data=0.015275293526730991), Value(data=0.299061435675863), Value(data=-0.014373221116695532), Value(data=-0.025829627917502984), Value(data=-0.6129934271003112), Value(data=0.5871637991828083), Value(data=0.48099383514141403), Value(data=0.1061699640413942), Value(data=0.2793928917426187), Value(data=0.31343465679255855), Value(data=-0.258809832285233), Value(data=-0.607796263723293), Value(data=-0.5346138377350409), Value(data=-0.07318242598825206), Value(data=0.23791802721587688), Value(data=-0.31110045320412893), Value(data=-0.9845468856854465), Value(data=0.5722444890777916), Value(data=0.026867972760845904), Value(data=-0.5418579248751012), Value(data=0.34485799421340235), Value(data=-0.8867159190885036), Value(data=-1.28249784300835), Value(data=0.39578192391984646), Value(data=0.7338620336397141), Value(data=0.5453765163169457), Value(data=0.14482297007324363), Value(data=1.2874405038731036), Value(data=1.0118053528104518), Value(data=0.2756351510626518), Value(data=-0.11379294204695611), Value(data=0.3894280931096079), Value(data=0.8806911181180964), Value(data=0), Value(data=2.7544956913804644), Value(data=2.013728264271252), Value(data=2.013728264271252), Value(data=1.4190589361514383), Value(data=1.0), Value(data=0.4190589361514383), Value(data=0.5203175426862606), Value(data=1.3329876216958974), Value(data=-0.00090100655461775), Value(data=1.3338886282505151), Value(data=-0.5581025946456527), Value(data=1.8919912228961677), Value(data=1.9261747268903433), Value(data=-0.034183503994175635), Value(data=-0.515568896186908), Value(data=-0.10125860653482234), Value(data=-0.014195055647867477), Value(data=-0.12338230928467209), Value(data=0.5970813829704745), Value(data=-0.7204636922551466), Value(data=-0.8894039793461825), Value(data=0.16894028709103592), Value(data=-0.6316250653451914), Value(data=0.8005653524362273), Value(data=0.5738949094486571), Value(data=-0.08706355088695486), Value(data=-0.03236878163894844), Value(data=-0.210281726704128), Value(data=-0.44024048685387573), Value(data=0.22995876014974773), Value(data=0.04942829975836041), Value(data=0.18053046039138732), Value(data=0.36488826643040023), Value(data=-0.18435780603901292), Value(data=0.26218097229705656), Value(data=-0.05469476924800641), Value(data=0.0686317566285592), Value(data=1.343680344628104), Value(data=0.5901067305779433), Value(data=1.0604607804118102), Value(data=0.6129934271003112), Value(data=0.4474673533114989), Value(data=0.48099383514141403), Value(data=-0.03352648182991516), Value(data=0.13969644587130936), Value(data=0.7535736140501608), Value(data=0.40610350572720183), Value(data=0.953704854589512), Value(data=0.5346138377350409), Value(data=0.41909101685447114), Value(data=0.23791802721587688), Value(data=0.1811729896385943), Value(data=-0.49227344284272323), Value(data=0.347470108322959), Value(data=0.07926171224770608), Value(data=-1.5985049301217629), Value(data=-0.34485799421340235), Value(data=-1.2536469359083606), Value(data=-1.28249784300835), Value(data=0.028850907099989387), Value(data=0.36693101681985707), Value(data=0.26820839607525293), Value(data=-0.13234515016844908), Value(data=-1.1765157608068482), Value(data=-1.0118053528104518), Value(data=-0.1647104079963964), Value(data=-0.11379294204695611), Value(data=-0.0509174659494403), Value(data=0.4403455590590482), Value(data=0), Value(data=0.7407674271092122), Value(data=0.27222369675195174), Value(data=0.27222369675195174), Value(data=0.5217506078117703), Value(data=1.0), Value(data=-0.4782493921882297), Value(data=-0.39591907890793576), Value(data=-1.0142945184067025), Value(data=-0.0004167117208851235), Value(data=-1.0138778066858174), Value(data=1.3171583328969076), Value(data=-2.331036139582725), Value(data=-3.583113565564404), Value(data=1.2520774259816791), Value(data=0.7706920337889467), Value(data=-0.08233031328029394), Value(data=0.33582359573796977), Value(data=2.9189523297612157), Value(data=0.2761476143885028), Value(data=2.642804715372713), Value(data=2.0990510955271344), Value(data=0.5437536198455784), Value(data=1.174963158011418), Value(data=-0.6312095381658396), Value(data=-0.8578799811534097), Value(data=-0.4181539090182637), Value(data=-0.28284639986857507), Value(data=-1.8374936078793496), Value(data=-0.2036093632615279), Value(data=-1.6338842446178217), Value(data=-0.11665399432336745), Value(data=-1.5172302502944541), Value(data=-0.6787733631376203), Value(data=-0.8384568871568339), Value(data=-0.39191810882076444), Value(data=-0.13530750914968864), Value(data=-0.011980983273123028), Value(data=-0.23456505449132725), Value(data=0.27292186715484335), Value(data=0.49045862593537326), Value(data=0.3064967135501556), Value(data=0.18396191238521764), Value(data=-0.48099383514141403), Value(data=0.6649557475266317), Value(data=0.8381786752278562), Value(data=-0.5074869216461706), Value(data=-0.9584306213929147), Value(data=-2.250805332923378), Value(data=0.26730691886752045), Value(data=-2.5181122517908983), Value(data=-0.23791802721587688), Value(data=-2.2801942245750215), Value(data=-2.953640657056339), Value(data=0.4509436997467441), Value(data=-0.14744442049819614), Value(data=2.9735748371009234), Value(data=-0.17242899710670118), Value(data=3.1460038342076246), Value(data=1.28249784300835), Value(data=1.8635059911992746), Value(data=2.201586100919142), Value(data=0.5983881202449403), Value(data=0.19783457400123824), Value(data=1.758700594987531), Value(data=-0.5059026764052259), Value(data=2.264603271392757), Value(data=0.11379294204695611), Value(data=2.1508103293458007), Value(data=2.6420733543542894), Value(data=0), Value(data=0.4685437303572605), Value(data=0.4685437303572605), Value(data=0.4685437303572605), Value(data=0.6845025422577045), Value(data=-1.0), Value(data=1.6845025422577045), Value(data=1.890618636242664), Value(data=4.843525410363982), Value(data=-0.001032776863919171), Value(data=4.844558187227902), Value(data=0.6533735291880608), Value(data=4.191184658039841), Value(data=2.8594196471314306), Value(data=1.3317650109084107), Value(data=0.8503796187156782), Value(data=-0.20611609398495956), Value(data=0.007831308498187667), Value(data=0.06806911865627174), Value(data=0.6844032765892379), Value(data=-0.6163341579329662), Value(data=1.0412297352394095), Value(data=-1.6575638931723757), Value(data=-0.9376517593419414), Value(data=-0.7199121338304344), Value(data=-0.9465825768180046), Value(data=-0.21394740248314723), Value(data=-0.138505440101702), Value(data=-0.8997917631677426), Value(data=-0.5046247300343866), Value(data=-0.39516703313335605), Value(data=-0.057865960425054035), Value(data=-0.337301072708302), Value(data=0.5416791444062038), Value(data=-0.8789802171145058), Value(data=-0.4324414387784363), Value(data=-0.07544196238144524), Value(data=0.04788456349512039), Value(data=0.9374894355059497), Value(data=0.6764085959867857), Value(data=1.2155509341079438), Value(data=-0.6129934271003112), Value(data=1.828544361208255), Value(data=1.442981505424242), Value(data=0.38556285578401295), Value(data=0.5587857834852374), Value(data=0.26108083951916394), Value(data=-0.4754274273193303), Value(data=-1.1165070949769855), Value(data=-0.5346138377350409), Value(data=-0.5818932572419446), Value(data=0.7137540816476307), Value(data=-1.2956473388895753), Value(data=-1.969093771370893), Value(data=0.7365082668384942), Value(data=0.11766455768644887), Value(data=-2.372991577252087), Value(data=0.34485799421340235), Value(data=-2.7178495714654893), Value(data=-3.84749352902505), Value(data=1.1296439575595607), Value(data=1.4677240672794283), Value(data=0.6188437091520453), Value(data=0.21829016290834333), Value(data=1.940545737897288), Value(data=1.0118053528104518), Value(data=0.9287403850868361), Value(data=-0.34137882614086834), Value(data=1.2701192112277044), Value(data=1.7613822362361928), Value(data=0), Value(data=0)]\n"
     ]
    },
    {
     "data": {
      "text/plain": [
       "[-12.555120244978937,\n",
       " -30.513250480870735,\n",
       " 13.018184424466286,\n",
       " -11.627891987858188,\n",
       " 1.3788447150911207,\n",
       " 11.041757338568871,\n",
       " -8.441359045621882,\n",
       " 2.3990763614763564,\n",
       " -0.22177753984287807,\n",
       " 4.384008665880717,\n",
       " -4.251655098536462,\n",
       " 0.5127808163118431,\n",
       " -3.885052771745498,\n",
       " -10.088269916813191,\n",
       " 4.631254396705464,\n",
       " -3.6926220855220624,\n",
       " 16.60946495321727,\n",
       " 10.573257499112716,\n",
       " -1.8856658255812093,\n",
       " 3.36188616771466,\n",
       " -8.552967819488272,\n",
       " 13.606960994951182,\n",
       " 8.376376521628359,\n",
       " -1.6193365864879496,\n",
       " 3.517593717294553,\n",
       " -6.517449799499002,\n",
       " 1.338181361971038,\n",
       " 0.8079989391588179,\n",
       " -0.2253566211861244,\n",
       " 1.2076966669712466,\n",
       " -0.23741929076133905,\n",
       " 13.536867102168296,\n",
       " 7.758041576558073,\n",
       " -1.7705402597119038,\n",
       " 5.21595019871387,\n",
       " -5.418201015805006,\n",
       " 25.776613960996393,\n",
       " 7.95261401308304,\n",
       " 3.1861078585558773,\n",
       " 9.13439342066053,\n",
       " -9.799725244971718]"
      ]
     },
     "execution_count": 60,
     "metadata": {},
     "output_type": "execute_result"
    }
   ],
   "source": [
    "loss.zero_grad()\n",
    "loss.backward()\n",
    "weights = mlp.get_weights()\n",
    "gradients = mlp.get_gradients()\n",
    "mlp.get_gradients()"
   ]
  },
  {
   "cell_type": "code",
   "execution_count": 61,
   "metadata": {},
   "outputs": [],
   "source": [
    "learning_rate = 0.01\n",
    "for weight in weights:\n",
    "  weight.data -= learning_rate * weight.grad"
   ]
  },
  {
   "cell_type": "code",
   "execution_count": 62,
   "metadata": {},
   "outputs": [
    {
     "data": {
      "text/plain": [
       "Value(data=2.0657631306157977)"
      ]
     },
     "execution_count": 62,
     "metadata": {},
     "output_type": "execute_result"
    }
   ],
   "source": [
    "preds = [mlp(x) for x in xs]\n",
    "\n",
    "loss = Value(0)\n",
    "for pred, target in zip(preds, ys):\n",
    "  example_squared_error = Value(0)\n",
    "  for idx in range(len(pred)): # compare each element\n",
    "    example_squared_error += (pred[idx] - target[idx]) ** 2\n",
    "  loss += example_squared_error\n",
    "\n",
    "loss"
   ]
  },
  {
   "cell_type": "code",
   "execution_count": 63,
   "metadata": {},
   "outputs": [],
   "source": [
    "# not normalizing loss seems to make the gradients larger. checks out since the height of the loss function becomes much larger in general. loss function landscape becomes far steeper. input space does not scale in comparison. you would have to change the learning rate to be much smaller to compensate for the larger gradients. \n",
    "# if you change your dataset/batch size, you'd have to change learning rate. kinda fiddly and annoying. makes far more sense to just normalize and change lr much less. "
   ]
  }
 ],
 "metadata": {
  "kernelspec": {
   "display_name": "3.11.2",
   "language": "python",
   "name": "python3"
  },
  "language_info": {
   "codemirror_mode": {
    "name": "ipython",
    "version": 3
   },
   "file_extension": ".py",
   "mimetype": "text/x-python",
   "name": "python",
   "nbconvert_exporter": "python",
   "pygments_lexer": "ipython3",
   "version": "3.11.2"
  }
 },
 "nbformat": 4,
 "nbformat_minor": 2
}
