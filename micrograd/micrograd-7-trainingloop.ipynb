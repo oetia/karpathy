{
 "cells": [
  {
   "cell_type": "code",
   "execution_count": 1,
   "metadata": {},
   "outputs": [],
   "source": [
    "from __future__ import annotations"
   ]
  },
  {
   "cell_type": "code",
   "execution_count": 2,
   "metadata": {},
   "outputs": [],
   "source": [
    "class Value:\n",
    "  def __init__(self, data: float, father: Value = None, mother: Value = None) -> None:\n",
    "    self.name = \"\"\n",
    "    self.data = data\n",
    "    self.father: Value = father\n",
    "    self.mother: Value = mother\n",
    "    self.grad = 0 # gradient w.r.t to the target\n",
    "    self.traversed = False\n",
    "    self._backward = lambda: None # calculates gradients of parents\n",
    "    self._zero_grad = lambda: None # zeros out gradients of parents\n",
    "\n",
    "\n",
    "  def __repr__(self) -> str:\n",
    "    return f\"Value(data={self.data})\"\n",
    "  \n",
    "  # when backwards called on new node, want to calculate gradients for parents\n",
    "  # you know the derivative of the parent node wrt to the child node\n",
    "  \n",
    "  def __add__(self, other: Value):\n",
    "    father = self; mother = other\n",
    "    child = Value(self.data + other.data, father, mother)\n",
    "    def _backward():\n",
    "      dchild_dfather = 1\n",
    "      dchild_dmother = 1\n",
    "      father.grad += dchild_dfather * child.grad\n",
    "      mother.grad += dchild_dmother * child.grad\n",
    "    def _zero_grad():\n",
    "      father.grad = 0; father.traversed = False\n",
    "      mother.grad = 0; mother.traversed = False\n",
    "    child._backward = _backward\n",
    "    child._zero_grad = _zero_grad\n",
    "    return child\n",
    "  \n",
    "  def __sub__(self, other: Value):\n",
    "    return self + (-other)\n",
    "  \n",
    "  def __mul__(self, other: Value):\n",
    "    father = self; mother = other\n",
    "    child = Value(father.data * mother.data, father, mother)\n",
    "    def _backward():\n",
    "      dchild_dfather = mother.data\n",
    "      dchild_dmother = father.data\n",
    "      father.grad += dchild_dfather * child.grad\n",
    "      mother.grad += dchild_dmother * child.grad\n",
    "    def _zero_grad():\n",
    "      father.grad = 0; father.traversed = False\n",
    "      mother.grad = 0; mother.traversed = False\n",
    "    child._backward = _backward\n",
    "    child._zero_grad = _zero_grad\n",
    "    return child\n",
    "  \n",
    "  def __truediv__(self, other: Value):\n",
    "    return self * (other ** -1)\n",
    "  \n",
    "  def __neg__(self):\n",
    "    father = self\n",
    "    child = Value(-father.data, father)\n",
    "    def _backward():\n",
    "      dchild_dfather = -1\n",
    "      father.grad += dchild_dfather * child.grad\n",
    "    def _zero_grad():\n",
    "      father.grad = 0; father.traversed = False\n",
    "    child._backward = _backward\n",
    "    child._zero_grad = _zero_grad\n",
    "    return child\n",
    "  \n",
    "  def __pow__(self, other: float):\n",
    "    father = self\n",
    "    child = Value(father.data ** other, father)\n",
    "    def _backward():\n",
    "      dchild_dfather = other * father.data ** (other - 1)\n",
    "      father.grad += dchild_dfather * child.grad\n",
    "    def _zero_grad():\n",
    "      father.grad = 0; father.traversed = False\n",
    "    child._backward = _backward\n",
    "    child._zero_grad = _zero_grad\n",
    "    return child\n",
    "\n",
    "\n",
    "  def backward(self): # defines this node to be the target. derivative of all nodes in graph wrt to this node. \n",
    "    # edge cases to consider: \n",
    "    # 1. _backward() should only be called when a node's gradient wrt to target is fully computed. i.e. when all it's children have had their _backward's called. EX: a -> b -> c & a -> c. target order is c, b, a but _backward could be called on a before b. b is a's kid. the gradient of a wrt to c is not fully computed.\n",
    "    # 2. _backward should only be called once per node. need some kind of cycle detection. a node could have multiple children, so it could be visited multiple times. just tracking count won't be good enough. need to consider if there's a duplicate visit from the same path. \n",
    "\n",
    "    # could do reverse dfs. root is last to be marked as traversed. if reversing order, it will be called before any of it's children can be called. dfs traverses all children before marking parent as traversed. reversing this means that parent is marked as traversed before any of it's children. this behavior is desirable for topological sorting. from perspective of root, but can be applied to any node b.c. recursive. \n",
    "    # a b c -> c b a. regardless of the path that is taken, b's child, a will always be traversed before b, even if a isn't reached through b. reversing order, a's parents will always be traversed before a.\n",
    "    # adding a traversed variable, so you don't have to check the list. having extra indicator variables save so much computation. \n",
    "\n",
    "    dfs_order = []\n",
    "    def dfs(node: Value):\n",
    "      if node.father:\n",
    "        dfs(node.father)\n",
    "      if node.mother:\n",
    "        dfs(node.mother)\n",
    "      if not node.traversed: # i forgor traversal check\n",
    "        dfs_order.append(node)\n",
    "        node.traversed = True\n",
    "    dfs(self)\n",
    "\n",
    "    self.grad = 1 # derivative wrt to self is 1\n",
    "    topological_order = dfs_order[::-1]\n",
    "\n",
    "    print(dfs_order)\n",
    "    print(topological_order)\n",
    "\n",
    "    for node in topological_order:\n",
    "      node._backward()\n",
    "\n",
    "  def zero_grad(self): # zeros out gradients of ancestors\n",
    "    self.grad = 0; self.traversed = False\n",
    "    def dfs(node: Value):\n",
    "      if node.father:\n",
    "        dfs(node.father)\n",
    "      if node.mother:\n",
    "        dfs(node.mother)\n",
    "      node._zero_grad()"
   ]
  },
  {
   "cell_type": "code",
   "execution_count": 3,
   "metadata": {},
   "outputs": [
    {
     "name": "stdout",
     "output_type": "stream",
     "text": [
      "[Value(data=-6), Value(data=36), Value(data=6), Value(data=42)]\n",
      "[Value(data=42), Value(data=6), Value(data=36), Value(data=-6)]\n"
     ]
    },
    {
     "data": {
      "text/plain": [
       "(-13, 1)"
      ]
     },
     "execution_count": 3,
     "metadata": {},
     "output_type": "execute_result"
    }
   ],
   "source": [
    "a = Value(-6)\n",
    "b = a**2 - a\n",
    "b.backward()\n",
    "a.grad, b.grad"
   ]
  },
  {
   "cell_type": "code",
   "execution_count": 4,
   "metadata": {},
   "outputs": [
    {
     "data": {
      "text/plain": [
       "(Value(data=2), Value(data=3), Value(data=-6), Value(data=36), Value(data=42))"
      ]
     },
     "execution_count": 4,
     "metadata": {},
     "output_type": "execute_result"
    }
   ],
   "source": [
    "a = Value(2); a.name = \"a\"\n",
    "b = Value(3); b.name = \"b\"\n",
    "c = a * -b; c.name = \"c\"\n",
    "d = c ** 2; d.name = \"d\"\n",
    "e = d - c; e.name = \"e\"\n",
    "a, b, c, d, e"
   ]
  },
  {
   "cell_type": "code",
   "execution_count": 5,
   "metadata": {},
   "outputs": [
    {
     "name": "stdout",
     "output_type": "stream",
     "text": [
      "[Value(data=2), Value(data=3), Value(data=-3), Value(data=-6), Value(data=36), Value(data=6), Value(data=42)]\n",
      "[Value(data=42), Value(data=6), Value(data=36), Value(data=-6), Value(data=-3), Value(data=3), Value(data=2)]\n"
     ]
    },
    {
     "data": {
      "text/plain": [
       "(39, 26, -13, 1, 1)"
      ]
     },
     "execution_count": 5,
     "metadata": {},
     "output_type": "execute_result"
    }
   ],
   "source": [
    "# c.grad = 1 # FUCK ME. THIS WAS THE ISSUE ALL ALONG. Forgot to comment out a line. which then made c gradient 1 higher. i thought the -1 wasn't being applied. it was. \n",
    "e.backward()\n",
    "a.grad, b.grad, c.grad, d.grad, e.grad\n",
    "\n",
    "# e: 1, d: 1, c: (2*-6 * 1 + -1) = -13, b: 26, a: 39"
   ]
  },
  {
   "cell_type": "code",
   "execution_count": 6,
   "metadata": {},
   "outputs": [],
   "source": [
    "# all in all, my reasoning was actually on point. the only real mistake i made was forgetting to add traversed var. \n",
    "# the mistake i spent the most time on was just thinking that the -1 wasn't being applied from sub. what happened was that i forgot to uncomment out code that set c.grad to 1, which then meant that the -1 was being applied, but it was 1 + -13 = 12, which effectively canceled it out. i was not expecting the bug to be here and subsequently wasted a ton of time looking elsewhere. \n",
    "# the debugger gave me a massive hint of c.grad being 1 when e's _backward() was called. i was very confused and just was looking for the bug in the wrong place. \n",
    "# the way i ended up fixing this was through just running the error in isolation with new variables and seeing that the result was correct. that led me to know that my backprop calculations were actually correct and that the error was somewhere else. "
   ]
  },
  {
   "cell_type": "code",
   "execution_count": 29,
   "metadata": {},
   "outputs": [],
   "source": [
    "import random\n",
    "\n",
    "class Neuron:\n",
    "  def __init__(self, n_inputs: int):\n",
    "    self.weights = [Value(random.uniform(-1, 1)) for _ in range(n_inputs)]\n",
    "    self.bias = Value(random.uniform(-1, 1))\n",
    "\n",
    "  def __call__(self, inputs: list[Value]):\n",
    "    return sum([weight * input for weight, input in zip(self.weights, inputs)], self.bias)\n",
    "  \n",
    "  def get_weights(self) -> list[Value]:\n",
    "    return self.weights + [self.bias]\n",
    "  \n",
    "  def get_gradients(self) -> list[int]:\n",
    "    return [weight.grad for weight in self.get_weights()]\n",
    "  \n",
    "  # implemented zero grad with dfs from target. \n",
    "  # def zero_grad(self):\n",
    "  #   for weight in self.get_weights():\n",
    "  #     weight.zero_grad()\n",
    "  \n",
    "class Layer:\n",
    "  def __init__(self, n_inputs: int, n_neurons: int):\n",
    "    self.neurons = [Neuron(n_inputs) for _ in range(n_neurons)]\n",
    "  \n",
    "  def __call__(self, inputs: list[Value]):\n",
    "    return [neuron(inputs) for neuron in self.neurons]\n",
    "  \n",
    "  def get_weights(self) -> list[Value]:\n",
    "    accumulator_list = []\n",
    "    for neuron in self.neurons:\n",
    "      accumulator_list += neuron.get_weights()\n",
    "    return accumulator_list\n",
    "  \n",
    "  def get_gradients(self) -> list[int]:\n",
    "    accumulator_list = []\n",
    "    for neuron in self.neurons:\n",
    "      accumulator_list += neuron.get_gradients()\n",
    "    return accumulator_list\n",
    "  \n",
    "  \n",
    "\n",
    "class MLP:\n",
    "  def __init__(self, n_inputs: int, layer_neuron_counts: list[int]):\n",
    "    self.layers = [Layer(n_inputs, layer_neuron_counts[0])]\n",
    "    for i in range(1, len(layer_neuron_counts)):\n",
    "      self.layers.append(Layer(layer_neuron_counts[i-1], layer_neuron_counts[i]))\n",
    "\n",
    "  def __call__(self, inputs: list[Value]):\n",
    "    for layer in self.layers:\n",
    "      inputs = layer(inputs)\n",
    "    return inputs\n",
    "  \n",
    "  def get_weights(self) -> list[Value]:\n",
    "    accumulator_list = []\n",
    "    for layer in self.layers:\n",
    "      accumulator_list += layer.get_weights()\n",
    "    return accumulator_list\n",
    "  \n",
    "  def get_gradients(self) -> list[int]:\n",
    "    accumulator_list = []\n",
    "    for layer in self.layers:\n",
    "      accumulator_list += layer.get_gradients()\n",
    "    return accumulator_list\n",
    "  \n",
    "  def calculate_loss(self, inputs: list[list[Value]], targets: list[Value]):\n",
    "    predictions = [self(input) for input in inputs]\n",
    "\n",
    "    unnormalized_loss = Value(0)\n",
    "    for prediction, target in zip(predictions, targets):\n",
    "      example_loss = Value(0)\n",
    "      for idx in range(len(prediction)):\n",
    "        example_loss += (prediction[idx] - target[idx]) ** 2\n",
    "      unnormalized_loss += example_loss\n",
    "    loss = unnormalized_loss / Value(len(inputs))\n",
    "    return loss"
   ]
  },
  {
   "cell_type": "code",
   "execution_count": 30,
   "metadata": {},
   "outputs": [],
   "source": [
    "xs = [\n",
    "  [Value(2.0), Value(3.0), Value(-1.0)],\n",
    "  [Value(3.0), Value(-1.0), Value(0.5)],\n",
    "  [Value(0.5), Value(1.0), Value(1.0)],\n",
    "  [Value(1.0), Value(1.0), Value(-1.0)]\n",
    "]\n",
    "ys = [[Value(1.0)], [Value(-1.0)], [Value(-1.0)], [Value(1.0)]]"
   ]
  },
  {
   "cell_type": "code",
   "execution_count": 179,
   "metadata": {},
   "outputs": [
    {
     "data": {
      "text/plain": [
       "Value(data=3.844751607699317)"
      ]
     },
     "execution_count": 179,
     "metadata": {},
     "output_type": "execute_result"
    }
   ],
   "source": [
    "mlp = MLP(3, [4, 4, 1])\n",
    "loss = mlp.calculate_loss(xs, ys)\n",
    "loss"
   ]
  },
  {
   "cell_type": "code",
   "execution_count": 221,
   "metadata": {},
   "outputs": [
    {
     "name": "stdout",
     "output_type": "stream",
     "text": [
      "[Value(data=0), Value(data=0), Value(data=0.1387833774602646), Value(data=-0.8875477433524778), Value(data=1.297160232675587), Value(data=0.40961248932310934), Value(data=0.04971639768825298), Value(data=0.4593288870113623), Value(data=0.006713705915963626), Value(data=-0.30762568312896094), Value(data=-1.0701055413802707), Value(data=-0.46408293852955673), Value(data=-1.409294166235625), Value(data=-1.873377104765182), Value(data=-0.18156690172645187), Value(data=-2.054944006491634), Value(data=-0.9391838267797252), Value(data=-1.2468095099086862), Value(data=-1.610301658821966), Value(data=-1.0380534101139416), Value(data=-2.3083063500526135), Value(data=-3.346359760166555), Value(data=0.5646951500112948), Value(data=-2.7816646101552602), Value(data=-2.0675439057997878), Value(data=-3.314353415708474), Value(data=-1.2838712788805895), Value(data=-2.17458300141711), Value(data=-2.029143480761248), Value(data=-4.203726482178358), Value(data=0.013397173446394859), Value(data=-4.190329308731964), Value(data=-0.1212761393843302), Value(data=-3.435629555092804), Value(data=0.6889568497514591), Value(data=1.5164356600588453), Value(data=-0.10984692305178832), Value(data=0.3379331729411358), Value(data=-0.40745859069763274), Value(data=-0.06952541775649695), Value(data=0.5192943553851347), Value(data=0.44976893762863773), Value(data=-1.9777637436187727), Value(data=-1.527994805990135), Value(data=0.2209792348553403), Value(data=1.7374148949141857), Value(data=0.20237516343790843), Value(data=1.3064523682124571), Value(data=-1.8415165582981339), Value(data=-0.5350641900856767), Value(data=-0.030223819493640818), Value(data=-0.5652880095793176), Value(data=0.2853235613384696), Value(data=-0.279964448240848), Value(data=0.19797757173904273), Value(data=1.9353924666532283), Value(data=0.019740834377679845), Value(data=0.8131035854801346), Value(data=2.384086406524265), Value(data=3.1971899920043994), Value(data=-3.1022340248644182), Value(data=0.09495596713998111), Value(data=-2.006357966036553), Value(data=-1.9114019988965718), Value(data=-1.7086641155855657), Value(data=0.22672835106766254), Value(data=-1.0), Value(data=-0.7732716489323375), Value(data=0.5979490430425362), Value(data=0.5979490430425362), Value(data=0.5979490430425362), Value(data=0), Value(data=0.20817506619039688), Value(data=-0.8181560546223454), Value(data=-0.4323867442251957), Value(data=-1.250542798847541), Value(data=-0.02485819884412649), Value(data=-1.2754009976916676), Value(data=-0.018641691096638227), Value(data=-0.3329810801415628), Value(data=-1.605158312070406), Value(data=-0.9991357092196921), Value(data=0.4697647220785417), Value(data=-0.5293709871411504), Value(data=0.09078345086322594), Value(data=-0.43858753627792446), Value(data=-0.20045038667629977), Value(data=-0.5334314668178626), Value(data=-2.4154524882329493), Value(data=-1.8432042395249248), Value(data=0.7694354500175379), Value(data=-1.0737687895073869), Value(data=-0.2823475750056474), Value(data=-1.3561163645130343), Value(data=-1.0079684354354246), Value(data=-1.5413999022532872), Value(data=-1.9258069183208844), Value(data=-2.8165186408574048), Value(data=0.6763811602537494), Value(data=-2.1401374806036553), Value(data=-0.006698586723197429), Value(data=-2.1468360673268525), Value(data=-0.06213353914545352), Value(data=-1.6035334413987408), Value(data=0.321561254070464), Value(data=1.1490400643778502), Value(data=0.30500776070316055), Value(data=0.7527878566960846), Value(data=-0.08696405296923478), Value(data=0.6658238037268498), Value(data=0.25316624109393326), Value(data=0.9189900448207831), Value(data=-1.0132698947083523), Value(data=-0.09427984988756921), Value(data=0.013634790516798324), Value(data=1.1626748548946486), Value(data=-0.5619273959365371), Value(data=0.5421498088380116), Value(data=-0.39303562908163825), Value(data=0.1491141797563733), Value(data=-0.014734708154167678), Value(data=0.13437947160220565), Value(data=0.14618013697948093), Value(data=0.2805596085816866), Value(data=-0.19839844088801856), Value(data=0.96427641400663), Value(data=-0.05481362172620342), Value(data=0.7385491293762514), Value(data=0.5088365327755827), Value(data=1.2473856621518342), Value(data=-1.5124002772688534), Value(data=-0.2650146151170192), Value(data=-1.0279196044282388), Value(data=-1.292934219545258), Value(data=-1.1557957488926711), Value(data=-0.19151933488604111), Value(data=1.0), Value(data=0.8084806651139589), Value(data=0.6536409858631094), Value(data=0.6536409858631094), Value(data=1.2515900289056456), Value(data=0), Value(data=0.03469584436506615), Value(data=-0.9916352764476762), Value(data=0.4323867442251957), Value(data=-0.5592485322224805), Value(data=-0.04971639768825298), Value(data=-0.6089649299107335), Value(data=-0.008900836782022229), Value(data=-0.32324022582694684), Value(data=-0.2675263853450677), Value(data=0.3384962175056463), Value(data=-0.4697647220785417), Value(data=-0.1312685045728954), Value(data=0.18156690172645187), Value(data=0.05029839715355647), Value(data=0.022988188958109175), Value(data=-0.30025203686883767), Value(data=-0.4025754147054915), Value(data=0.16967283400253286), Value(data=-0.7694354500175379), Value(data=-0.599762616015005), Value(data=-0.5646951500112948), Value(data=-1.1644577660262998), Value(data=-0.8655132430126189), Value(data=-1.1657652798814566), Value(data=-0.3209678197201474), Value(data=-1.211679542256668), Value(data=-0.6763811602537494), Value(data=-1.8880607025104172), Value(data=-0.013397173446394859), Value(data=-1.9014578759568121), Value(data=-0.055031825283381644), Value(data=-1.2207971051648383), Value(data=0.2448100164097431), Value(data=1.0722888267171293), Value(data=0.14563186790271976), Value(data=0.5934119638956439), Value(data=0.009973271268606403), Value(data=0.6033852351642502), Value(data=0.21738650402863982), Value(data=0.82077173919289), Value(data=-0.8974555864259153), Value(data=-0.07668384723302524), Value(data=0.011090049403889874), Value(data=1.0833788761210192), Value(data=-0.2683031281148024), Value(data=0.8357740766597462), Value(data=0.04507438203742953), Value(data=0.8808484586971758), Value(data=-0.012652266272454294), Value(data=0.8681961924247215), Value(data=0.12947209942964005), Value(data=0.9976682918543616), Value(data=-0.7055036704247747), Value(data=0.37787520569624455), Value(data=-0.026171826251558682), Value(data=0.7671909248508961), Value(data=-0.05835474083232202), Value(data=0.7088361840185741), Value(data=-1.2986542263564864), Value(data=-0.5898180423379124), Value(data=-0.910430869611857), Value(data=-1.5002489119497695), Value(data=-1.3411210628505625), Value(data=-0.963245857154318), Value(data=1.0), Value(data=0.036754142845682014), Value(data=0.0013508670163207984), Value(data=0.0013508670163207984), Value(data=1.2529408959219663), Value(data=0), Value(data=0.0693916887301323), Value(data=-0.9569394320826101), Value(data=0.4323867442251957), Value(data=-0.5245526878574145), Value(data=0.04971639768825298), Value(data=-0.4748362901691615), Value(data=-0.0069403673502120965), Value(data=-0.3212797563951367), Value(data=-0.5350527706901353), Value(data=0.07096983216057862), Value(data=-0.4697647220785417), Value(data=-0.3987948899179631), Value(data=-0.18156690172645187), Value(data=-0.5803617916444149), Value(data=-0.2652463554585706), Value(data=-0.5865261118537073), Value(data=-0.805150829410983), Value(data=-0.23290258070295866), Value(data=-0.7694354500175379), Value(data=-1.0023380307204965), Value(data=0.5646951500112948), Value(data=-0.43764288070920176), Value(data=-0.325289349270784), Value(data=-0.9118154611244913), Value(data=-0.6419356394402947), Value(data=-1.5326473619768155), Value(data=-0.6763811602537494), Value(data=-2.209028522230565), Value(data=0.013397173446394859), Value(data=-2.19563134878417), Value(data=-0.06354576785573263), Value(data=-0.9753612289802239), Value(data=0.1955920418404291), Value(data=1.0230708521478153), Value(data=0.11355546516524283), Value(data=0.561335561158167), Value(data=-0.1150753485112779), Value(data=0.4462602126468891), Value(data=0.0817012506817252), Value(data=0.5279614633286143), Value(data=-1.0363004327438365), Value(data=-0.5083389694152223), Value(data=0.07351619002116772), Value(data=1.096587042168983), Value(data=-0.20920755159659074), Value(data=0.8948696531779579), Value(data=-0.5200851437998113), Value(data=0.37478450937814656), Value(data=-0.004755152501470553), Value(data=0.370029356876676), Value(data=0.14950265472358823), Value(data=0.5195320116002642), Value(data=-0.3673883835737448), Value(data=0.7291986585952381), Value(data=-0.02040730471303772), Value(data=0.772955446389417), Value(data=0.6733189098849299), Value(data=1.446274356274347), Value(data=-0.4880784801730595), Value(data=0.9581958761012874), Value(data=-1.0512831146547206), Value(data=-0.09308723855343315), Value(data=-0.08321369561558728), Value(data=0.6459849629796508), Value(data=-1.0), Value(data=-0.3540150370203492), Value(data=0.12532664643651922), Value(data=0.12532664643651922), Value(data=1.3782675423584856), Value(data=4), Value(data=0.25), Value(data=0.3445668855896214)]\n",
      "[Value(data=0.3445668855896214), Value(data=0.25), Value(data=4), Value(data=1.3782675423584856), Value(data=0.12532664643651922), Value(data=0.12532664643651922), Value(data=-0.3540150370203492), Value(data=-1.0), Value(data=0.6459849629796508), Value(data=-0.08321369561558728), Value(data=-0.09308723855343315), Value(data=-1.0512831146547206), Value(data=0.9581958761012874), Value(data=-0.4880784801730595), Value(data=1.446274356274347), Value(data=0.6733189098849299), Value(data=0.772955446389417), Value(data=-0.02040730471303772), Value(data=0.7291986585952381), Value(data=-0.3673883835737448), Value(data=0.5195320116002642), Value(data=0.14950265472358823), Value(data=0.370029356876676), Value(data=-0.004755152501470553), Value(data=0.37478450937814656), Value(data=-0.5200851437998113), Value(data=0.8948696531779579), Value(data=-0.20920755159659074), Value(data=1.096587042168983), Value(data=0.07351619002116772), Value(data=-0.5083389694152223), Value(data=-1.0363004327438365), Value(data=0.5279614633286143), Value(data=0.0817012506817252), Value(data=0.4462602126468891), Value(data=-0.1150753485112779), Value(data=0.561335561158167), Value(data=0.11355546516524283), Value(data=1.0230708521478153), Value(data=0.1955920418404291), Value(data=-0.9753612289802239), Value(data=-0.06354576785573263), Value(data=-2.19563134878417), Value(data=0.013397173446394859), Value(data=-2.209028522230565), Value(data=-0.6763811602537494), Value(data=-1.5326473619768155), Value(data=-0.6419356394402947), Value(data=-0.9118154611244913), Value(data=-0.325289349270784), Value(data=-0.43764288070920176), Value(data=0.5646951500112948), Value(data=-1.0023380307204965), Value(data=-0.7694354500175379), Value(data=-0.23290258070295866), Value(data=-0.805150829410983), Value(data=-0.5865261118537073), Value(data=-0.2652463554585706), Value(data=-0.5803617916444149), Value(data=-0.18156690172645187), Value(data=-0.3987948899179631), Value(data=-0.4697647220785417), Value(data=0.07096983216057862), Value(data=-0.5350527706901353), Value(data=-0.3212797563951367), Value(data=-0.0069403673502120965), Value(data=-0.4748362901691615), Value(data=0.04971639768825298), Value(data=-0.5245526878574145), Value(data=0.4323867442251957), Value(data=-0.9569394320826101), Value(data=0.0693916887301323), Value(data=0), Value(data=1.2529408959219663), Value(data=0.0013508670163207984), Value(data=0.0013508670163207984), Value(data=0.036754142845682014), Value(data=1.0), Value(data=-0.963245857154318), Value(data=-1.3411210628505625), Value(data=-1.5002489119497695), Value(data=-0.910430869611857), Value(data=-0.5898180423379124), Value(data=-1.2986542263564864), Value(data=0.7088361840185741), Value(data=-0.05835474083232202), Value(data=0.7671909248508961), Value(data=-0.026171826251558682), Value(data=0.37787520569624455), Value(data=-0.7055036704247747), Value(data=0.9976682918543616), Value(data=0.12947209942964005), Value(data=0.8681961924247215), Value(data=-0.012652266272454294), Value(data=0.8808484586971758), Value(data=0.04507438203742953), Value(data=0.8357740766597462), Value(data=-0.2683031281148024), Value(data=1.0833788761210192), Value(data=0.011090049403889874), Value(data=-0.07668384723302524), Value(data=-0.8974555864259153), Value(data=0.82077173919289), Value(data=0.21738650402863982), Value(data=0.6033852351642502), Value(data=0.009973271268606403), Value(data=0.5934119638956439), Value(data=0.14563186790271976), Value(data=1.0722888267171293), Value(data=0.2448100164097431), Value(data=-1.2207971051648383), Value(data=-0.055031825283381644), Value(data=-1.9014578759568121), Value(data=-0.013397173446394859), Value(data=-1.8880607025104172), Value(data=-0.6763811602537494), Value(data=-1.211679542256668), Value(data=-0.3209678197201474), Value(data=-1.1657652798814566), Value(data=-0.8655132430126189), Value(data=-1.1644577660262998), Value(data=-0.5646951500112948), Value(data=-0.599762616015005), Value(data=-0.7694354500175379), Value(data=0.16967283400253286), Value(data=-0.4025754147054915), Value(data=-0.30025203686883767), Value(data=0.022988188958109175), Value(data=0.05029839715355647), Value(data=0.18156690172645187), Value(data=-0.1312685045728954), Value(data=-0.4697647220785417), Value(data=0.3384962175056463), Value(data=-0.2675263853450677), Value(data=-0.32324022582694684), Value(data=-0.008900836782022229), Value(data=-0.6089649299107335), Value(data=-0.04971639768825298), Value(data=-0.5592485322224805), Value(data=0.4323867442251957), Value(data=-0.9916352764476762), Value(data=0.03469584436506615), Value(data=0), Value(data=1.2515900289056456), Value(data=0.6536409858631094), Value(data=0.6536409858631094), Value(data=0.8084806651139589), Value(data=1.0), Value(data=-0.19151933488604111), Value(data=-1.1557957488926711), Value(data=-1.292934219545258), Value(data=-1.0279196044282388), Value(data=-0.2650146151170192), Value(data=-1.5124002772688534), Value(data=1.2473856621518342), Value(data=0.5088365327755827), Value(data=0.7385491293762514), Value(data=-0.05481362172620342), Value(data=0.96427641400663), Value(data=-0.19839844088801856), Value(data=0.2805596085816866), Value(data=0.14618013697948093), Value(data=0.13437947160220565), Value(data=-0.014734708154167678), Value(data=0.1491141797563733), Value(data=-0.39303562908163825), Value(data=0.5421498088380116), Value(data=-0.5619273959365371), Value(data=1.1626748548946486), Value(data=0.013634790516798324), Value(data=-0.09427984988756921), Value(data=-1.0132698947083523), Value(data=0.9189900448207831), Value(data=0.25316624109393326), Value(data=0.6658238037268498), Value(data=-0.08696405296923478), Value(data=0.7527878566960846), Value(data=0.30500776070316055), Value(data=1.1490400643778502), Value(data=0.321561254070464), Value(data=-1.6035334413987408), Value(data=-0.06213353914545352), Value(data=-2.1468360673268525), Value(data=-0.006698586723197429), Value(data=-2.1401374806036553), Value(data=0.6763811602537494), Value(data=-2.8165186408574048), Value(data=-1.9258069183208844), Value(data=-1.5413999022532872), Value(data=-1.0079684354354246), Value(data=-1.3561163645130343), Value(data=-0.2823475750056474), Value(data=-1.0737687895073869), Value(data=0.7694354500175379), Value(data=-1.8432042395249248), Value(data=-2.4154524882329493), Value(data=-0.5334314668178626), Value(data=-0.20045038667629977), Value(data=-0.43858753627792446), Value(data=0.09078345086322594), Value(data=-0.5293709871411504), Value(data=0.4697647220785417), Value(data=-0.9991357092196921), Value(data=-1.605158312070406), Value(data=-0.3329810801415628), Value(data=-0.018641691096638227), Value(data=-1.2754009976916676), Value(data=-0.02485819884412649), Value(data=-1.250542798847541), Value(data=-0.4323867442251957), Value(data=-0.8181560546223454), Value(data=0.20817506619039688), Value(data=0), Value(data=0.5979490430425362), Value(data=0.5979490430425362), Value(data=0.5979490430425362), Value(data=-0.7732716489323375), Value(data=-1.0), Value(data=0.22672835106766254), Value(data=-1.7086641155855657), Value(data=-1.9114019988965718), Value(data=-2.006357966036553), Value(data=0.09495596713998111), Value(data=-3.1022340248644182), Value(data=3.1971899920043994), Value(data=2.384086406524265), Value(data=0.8131035854801346), Value(data=0.019740834377679845), Value(data=1.9353924666532283), Value(data=0.19797757173904273), Value(data=-0.279964448240848), Value(data=0.2853235613384696), Value(data=-0.5652880095793176), Value(data=-0.030223819493640818), Value(data=-0.5350641900856767), Value(data=-1.8415165582981339), Value(data=1.3064523682124571), Value(data=0.20237516343790843), Value(data=1.7374148949141857), Value(data=0.2209792348553403), Value(data=-1.527994805990135), Value(data=-1.9777637436187727), Value(data=0.44976893762863773), Value(data=0.5192943553851347), Value(data=-0.06952541775649695), Value(data=-0.40745859069763274), Value(data=0.3379331729411358), Value(data=-0.10984692305178832), Value(data=1.5164356600588453), Value(data=0.6889568497514591), Value(data=-3.435629555092804), Value(data=-0.1212761393843302), Value(data=-4.190329308731964), Value(data=0.013397173446394859), Value(data=-4.203726482178358), Value(data=-2.029143480761248), Value(data=-2.17458300141711), Value(data=-1.2838712788805895), Value(data=-3.314353415708474), Value(data=-2.0675439057997878), Value(data=-2.7816646101552602), Value(data=0.5646951500112948), Value(data=-3.346359760166555), Value(data=-2.3083063500526135), Value(data=-1.0380534101139416), Value(data=-1.610301658821966), Value(data=-1.2468095099086862), Value(data=-0.9391838267797252), Value(data=-2.054944006491634), Value(data=-0.18156690172645187), Value(data=-1.873377104765182), Value(data=-1.409294166235625), Value(data=-0.46408293852955673), Value(data=-1.0701055413802707), Value(data=-0.30762568312896094), Value(data=0.006713705915963626), Value(data=0.4593288870113623), Value(data=0.04971639768825298), Value(data=0.40961248932310934), Value(data=1.297160232675587), Value(data=-0.8875477433524778), Value(data=0.1387833774602646), Value(data=0), Value(data=0)]\n"
     ]
    },
    {
     "data": {
      "text/plain": [
       "(Value(data=0.21842761160272967), 7.393109972288752)"
      ]
     },
     "execution_count": 221,
     "metadata": {},
     "output_type": "execute_result"
    }
   ],
   "source": [
    "loss.zero_grad() # resets gradients of ancestors\n",
    "loss.backward() # accumulates gradients of ancestors\n",
    "weights = mlp.get_weights()\n",
    "gradients = mlp.get_gradients()\n",
    "\n",
    "learning_rate = 0.001\n",
    "for weight, gradient in zip(weights, gradients):\n",
    "  weight.data -= learning_rate * gradient\n",
    "\n",
    "loss = mlp.calculate_loss(xs, ys)\n",
    "weight_norm = sum([weight.data ** 2 for weight in weights]) ** 1/2\n",
    "# possible to get into the ping pong situation where gradients keep on increasing over time. keeping track of norm helps to spot when this could be happening. it's interesting to see that there are local minima. \n",
    "\n",
    "loss, weight_norm"
   ]
  },
  {
   "cell_type": "code",
   "execution_count": 11,
   "metadata": {},
   "outputs": [
    {
     "data": {
      "text/plain": [
       "Value(data=22.35815533801221)"
      ]
     },
     "execution_count": 11,
     "metadata": {},
     "output_type": "execute_result"
    }
   ],
   "source": [
    "loss = Value(0)\n",
    "for pred, target in zip(preds, ys):\n",
    "  example_squared_error = Value(0)\n",
    "  for idx in range(len(pred)): # compare each element\n",
    "    example_squared_error += (pred[idx] - target[idx]) ** 2\n",
    "  loss += example_squared_error\n",
    "\n",
    "loss"
   ]
  },
  {
   "cell_type": "code",
   "execution_count": 12,
   "metadata": {},
   "outputs": [
    {
     "name": "stdout",
     "output_type": "stream",
     "text": [
      "[Value(data=0), Value(data=0), Value(data=-0.2776463718826323), Value(data=-0.7410387421807423), Value(data=-0.9819012350415555), Value(data=0.3967127252271947), Value(data=-0.562332888407163), Value(data=0.26475307992159314), Value(data=2.0), Value(data=0.5295061598431863), Value(data=-0.032826728563976726), Value(data=0.9944833228916576), Value(data=3.0), Value(data=2.983449968674973), Value(data=2.950623240110996), Value(data=-0.9132724376901205), Value(data=-1.0), Value(data=0.9132724376901205), Value(data=3.863895677801117), Value(data=1.5328565843340596), Value(data=0.5509553492925041), Value(data=-0.538693676163783), Value(data=0.4593487379893546), Value(data=0.887681977767989), Value(data=1.775363955535978), Value(data=2.2347126935253323), Value(data=-0.2588482771285201), Value(data=-0.7765448313855603), Value(data=1.458167862139772), Value(data=0.4635067656819687), Value(data=-0.4635067656819687), Value(data=0.9946610964578033), Value(data=-0.5358176425879533), Value(data=0.015137706704550835), Value(data=0.6436763200038702), Value(data=-0.6778118978764884), Value(data=0.5105202286417905), Value(data=1.021040457283581), Value(data=0.3432285594070925), Value(data=0.5582835134472584), Value(data=1.674850540341775), Value(data=2.0180790997488676), Value(data=0.9016175200513274), Value(data=-0.9016175200513274), Value(data=1.1164615796975401), Value(data=0.7186398810454203), Value(data=0.7337775877499711), Value(data=-0.03758255427296975), Value(data=-0.5343932454307296), Value(data=0.01828500088808549), Value(data=0.03657000177617098), Value(data=-0.49782324365455866), Value(data=0.9195622671696242), Value(data=2.7586868015088726), Value(data=2.260863557854314), Value(data=0.3440521649331463), Value(data=-0.3440521649331463), Value(data=1.9168113929211676), Value(data=-0.07203866820550653), Value(data=0.6617389195444646), Value(data=-0.49037417659127347), Value(data=-0.7680205484739058), Value(data=0.5826950021812718), Value(data=0.3011359884706921), Value(data=-0.8729930572954632), Value(data=-3.373154100834323), Value(data=-3.072018112363631), Value(data=-0.14966568676024328), Value(data=-0.1488666360950537), Value(data=-3.220884748458685), Value(data=0.8579018444687048), Value(data=0.9578144485009635), Value(data=-2.2630702999577217), Value(data=-0.1703902651151903), Value(data=-0.32660600141565493), Value(data=-2.589676301373377), Value(data=-1.5089914380775478), Value(data=-2.2770119865514538), Value(data=-0.33072670220020517), Value(data=0.8256646007282908), Value(data=-0.463572146824182), Value(data=-1.7911944144629417), Value(data=-0.9655298137346509), Value(data=0.09108994843570728), Value(data=0.09060362798734536), Value(data=-0.8749261857473055), Value(data=-0.17326915714327185), Value(data=-0.1934483568970386), Value(data=-1.068374542644344), Value(data=-0.668854680098923), Value(data=-1.2820682710222586), Value(data=-2.3504428136666027), Value(data=0.7773542004741268), Value(data=-1.4996577860773268), Value(data=0.024043793806603375), Value(data=-0.6505929933823287), Value(data=-0.30426890537825746), Value(data=-1.175663308380326), Value(data=-1.8262563017626547), Value(data=-0.6060920133511727), Value(data=-0.602856146554195), Value(data=-2.42911244831685), Value(data=-0.2619757411639032), Value(data=-0.29248584982228526), Value(data=-2.721598298139135), Value(data=-0.659452544795504), Value(data=-1.2640461509548786), Value(data=-3.9856444490940133), Value(data=-0.09583001332044976), Value(data=-1.5954877993977765), Value(data=1.0), Value(data=-1.0), Value(data=-2.5954877993977767), Value(data=6.736556916822714), Value(data=6.736556916822714), Value(data=6.736556916822714), Value(data=0), Value(data=3.0), Value(data=0.7942592397647794), Value(data=0.2319263513576164), Value(data=-1.0), Value(data=-0.9944833228916576), Value(data=-0.7625569715340412), Value(data=0.5), Value(data=-0.4566362188450602), Value(data=-1.2191931903791016), Value(data=-0.4836694531337314), Value(data=-1.4655706881752868), Value(data=2.663045933303967), Value(data=3.1223946712933213), Value(data=0.2588482771285201), Value(data=3.3812429484218414), Value(data=0.23175338284098435), Value(data=3.612996331262826), Value(data=-1.946298275654233), Value(data=-3.41186896382952), Value(data=1.5315606859253714), Value(data=0.853748788048883), Value(data=-0.5582835134472584), Value(data=0.29546527460162464), Value(data=0.4508087600256637), Value(data=0.7462740346272884), Value(data=0.48035892432333377), Value(data=-2.931510039506186), Value(data=0.05485500266425647), Value(data=-0.47953824276647317), Value(data=-0.9195622671696242), Value(data=-1.3991005099360974), Value(data=0.17202608246657314), Value(data=-1.2270744274695242), Value(data=0.04611659126734668), Value(data=-2.8853934482388395), Value(data=2.1381883315794643), Value(data=1.860541959696832), Value(data=1.0643471907028617), Value(data=1.3654831791735538), Value(data=-0.5407415771806903), Value(data=0.8247416019928635), Value(data=0.6402298707858527), Value(data=1.4649714727787162), Value(data=0.20908153701260257), Value(data=1.6740530097913187), Value(data=0.9754623221919171), Value(data=2.836004281888749), Value(data=0.5651840046574638), Value(data=1.3908486053857545), Value(data=0.3291076495131304), Value(data=1.719956254898885), Value(data=-0.12930627297777914), Value(data=1.5906499819211057), Value(data=0.8207344736426977), Value(data=2.4113844555638035), Value(data=-0.7975092287254539), Value(data=2.0384950531632953), Value(data=0.3709625774812747), Value(data=-0.279630415901054), Value(data=-2.1898082206454865), Value(data=-2.4694386365465406), Value(data=-0.19550569333286025), Value(data=-2.664944329879401), Value(data=0.8091973538482639), Value(data=-1.8557469760311371), Value(data=-0.044619197648920396), Value(data=1.993875855514375), Value(data=-1.0), Value(data=1.0), Value(data=2.993875855514375), Value(data=8.96329263823193), Value(data=8.96329263823193), Value(data=15.699849555054644), Value(data=0), Value(data=0.5), Value(data=0.13237653996079657), Value(data=-0.42995634844636643), Value(data=1.0), Value(data=0.9944833228916576), Value(data=0.5645269744452912), Value(data=1.0), Value(data=-0.9132724376901205), Value(data=-0.34874546324482925), Value(data=-0.13835176313447667), Value(data=-1.120252998176032), Value(data=0.4438409888839945), Value(data=0.9031897268733491), Value(data=-0.2588482771285201), Value(data=0.644341449744829), Value(data=0.4635067656819687), Value(data=1.1078482154267977), Value(data=-0.5967908277997483), Value(data=-1.7170438259757805), Value(data=0.25526011432089524), Value(data=-0.4225517835555932), Value(data=0.5582835134472584), Value(data=0.13573172989166515), Value(data=0.9016175200513274), Value(data=1.0373492499429926), Value(data=0.6677171477620805), Value(data=-1.0493266782137), Value(data=0.009142500444042745), Value(data=-0.5252507449866869), Value(data=0.9195622671696242), Value(data=0.3943115221829373), Value(data=0.3440521649331463), Value(data=0.7383636871160836), Value(data=-0.027749593344230265), Value(data=-1.0770762715579303), Value(data=0.7981552455080123), Value(data=0.52050887362538), Value(data=0.30445236817602606), Value(data=0.6055883566467182), Value(data=-0.16580686398796163), Value(data=0.43978149265875655), Value(data=0.8899438348843208), Value(data=1.3297253275430774), Value(data=-0.1258099843991389), Value(data=1.2039153431439384), Value(data=0.7015154534993238), Value(data=1.2220243271247038), Value(data=0.16166868309159935), Value(data=0.9873332838198902), Value(data=0.10091383681781733), Value(data=1.0882471206377076), Value(data=-0.17974063020082756), Value(data=0.90850649043688), Value(data=-0.49385800774268934), Value(data=0.4146484826941907), Value(data=-0.13713532525376854), Value(data=1.0848890018709352), Value(data=0.10611240035713751), Value(data=-0.5444805930251911), Value(data=-0.6714579553755315), Value(data=-1.2159385484007226), Value(data=-0.27176033859963455), Value(data=-1.4876988870003571), Value(data=-0.4869158124532926), Value(data=-1.9746146994536498), Value(data=-0.04747722868115165), Value(data=1.0374117731897836), Value(data=-1.0), Value(data=1.0), Value(data=2.037411773189784), Value(data=4.151046733532339), Value(data=4.151046733532339), Value(data=19.850896288586984), Value(data=0), Value(data=1.0), Value(data=0.26475307992159314), Value(data=-0.29757980848556986), Value(data=1.0), Value(data=0.9944833228916576), Value(data=0.6969035144060878), Value(data=-1.0), Value(data=0.9132724376901205), Value(data=1.6101759520962082), Value(data=0.6387772900513796), Value(data=-0.34312394499017584), Value(data=0.887681977767989), Value(data=1.3470307157573436), Value(data=-0.2588482771285201), Value(data=1.0881824386288235), Value(data=-0.4635067656819687), Value(data=0.6246756729468548), Value(data=-0.33650883466982623), Value(data=-0.6796327796600021), Value(data=0.5105202286417905), Value(data=-0.16729166923469796), Value(data=0.5582835134472584), Value(data=0.3909918442125604), Value(data=-0.9016175200513274), Value(data=-0.5106256758387671), Value(data=-0.3286776559233867), Value(data=-1.0083104355833887), Value(data=0.01828500088808549), Value(data=-0.5161082445426441), Value(data=0.9195622671696242), Value(data=0.40345402262698005), Value(data=-0.3440521649331463), Value(data=0.05940185769383377), Value(data=-0.0022324735406937333), Value(data=-1.0105429091240825), Value(data=0.7488514462969783), Value(data=0.471205074414346), Value(data=-1.4056724272041021), Value(data=-1.10453643873341), Value(data=-0.09349251359400815), Value(data=-1.1980289523274181), Value(data=-0.4380667091351572), Value(data=-1.6360956614625755), Value(data=-0.010121498280787141), Value(data=-1.6462171597433626), Value(data=-0.9592425114875057), Value(data=-0.4880374370731597), Value(data=-0.7464327228779105), Value(data=0.07923187785038033), Value(data=0.05690167483776975), Value(data=0.13613355268815008), Value(data=0.08847568046829672), Value(data=0.22460923315644682), Value(data=-0.03973121052509094), Value(data=0.1848780226313559), Value(data=-0.06114409873416323), Value(data=-0.549181535807323), Value(data=-0.4899264744107068), Value(data=-1.1405194677930355), Value(data=-0.3786109363078579), Value(data=-1.5191304041008933), Value(data=0.13377153988517998), Value(data=-1.3853588642157133), Value(data=-0.03917270622177907), Value(data=-1.4245315704374923), Value(data=-0.03425114335059596), Value(data=-0.583432679157919), Value(data=1.0), Value(data=-1.0), Value(data=-1.583432679157919), Value(data=2.507259049425225), Value(data=2.507259049425225), Value(data=22.35815533801221)]\n",
      "[Value(data=22.35815533801221), Value(data=2.507259049425225), Value(data=2.507259049425225), Value(data=-1.583432679157919), Value(data=-1.0), Value(data=1.0), Value(data=-0.583432679157919), Value(data=-0.03425114335059596), Value(data=-1.4245315704374923), Value(data=-0.03917270622177907), Value(data=-1.3853588642157133), Value(data=0.13377153988517998), Value(data=-1.5191304041008933), Value(data=-0.3786109363078579), Value(data=-1.1405194677930355), Value(data=-0.4899264744107068), Value(data=-0.549181535807323), Value(data=-0.06114409873416323), Value(data=0.1848780226313559), Value(data=-0.03973121052509094), Value(data=0.22460923315644682), Value(data=0.08847568046829672), Value(data=0.13613355268815008), Value(data=0.05690167483776975), Value(data=0.07923187785038033), Value(data=-0.7464327228779105), Value(data=-0.4880374370731597), Value(data=-0.9592425114875057), Value(data=-1.6462171597433626), Value(data=-0.010121498280787141), Value(data=-1.6360956614625755), Value(data=-0.4380667091351572), Value(data=-1.1980289523274181), Value(data=-0.09349251359400815), Value(data=-1.10453643873341), Value(data=-1.4056724272041021), Value(data=0.471205074414346), Value(data=0.7488514462969783), Value(data=-1.0105429091240825), Value(data=-0.0022324735406937333), Value(data=0.05940185769383377), Value(data=-0.3440521649331463), Value(data=0.40345402262698005), Value(data=0.9195622671696242), Value(data=-0.5161082445426441), Value(data=0.01828500088808549), Value(data=-1.0083104355833887), Value(data=-0.3286776559233867), Value(data=-0.5106256758387671), Value(data=-0.9016175200513274), Value(data=0.3909918442125604), Value(data=0.5582835134472584), Value(data=-0.16729166923469796), Value(data=0.5105202286417905), Value(data=-0.6796327796600021), Value(data=-0.33650883466982623), Value(data=0.6246756729468548), Value(data=-0.4635067656819687), Value(data=1.0881824386288235), Value(data=-0.2588482771285201), Value(data=1.3470307157573436), Value(data=0.887681977767989), Value(data=-0.34312394499017584), Value(data=0.6387772900513796), Value(data=1.6101759520962082), Value(data=0.9132724376901205), Value(data=-1.0), Value(data=0.6969035144060878), Value(data=0.9944833228916576), Value(data=1.0), Value(data=-0.29757980848556986), Value(data=0.26475307992159314), Value(data=1.0), Value(data=0), Value(data=19.850896288586984), Value(data=4.151046733532339), Value(data=4.151046733532339), Value(data=2.037411773189784), Value(data=1.0), Value(data=-1.0), Value(data=1.0374117731897836), Value(data=-0.04747722868115165), Value(data=-1.9746146994536498), Value(data=-0.4869158124532926), Value(data=-1.4876988870003571), Value(data=-0.27176033859963455), Value(data=-1.2159385484007226), Value(data=-0.6714579553755315), Value(data=-0.5444805930251911), Value(data=0.10611240035713751), Value(data=1.0848890018709352), Value(data=-0.13713532525376854), Value(data=0.4146484826941907), Value(data=-0.49385800774268934), Value(data=0.90850649043688), Value(data=-0.17974063020082756), Value(data=1.0882471206377076), Value(data=0.10091383681781733), Value(data=0.9873332838198902), Value(data=0.16166868309159935), Value(data=1.2220243271247038), Value(data=0.7015154534993238), Value(data=1.2039153431439384), Value(data=-0.1258099843991389), Value(data=1.3297253275430774), Value(data=0.8899438348843208), Value(data=0.43978149265875655), Value(data=-0.16580686398796163), Value(data=0.6055883566467182), Value(data=0.30445236817602606), Value(data=0.52050887362538), Value(data=0.7981552455080123), Value(data=-1.0770762715579303), Value(data=-0.027749593344230265), Value(data=0.7383636871160836), Value(data=0.3440521649331463), Value(data=0.3943115221829373), Value(data=0.9195622671696242), Value(data=-0.5252507449866869), Value(data=0.009142500444042745), Value(data=-1.0493266782137), Value(data=0.6677171477620805), Value(data=1.0373492499429926), Value(data=0.9016175200513274), Value(data=0.13573172989166515), Value(data=0.5582835134472584), Value(data=-0.4225517835555932), Value(data=0.25526011432089524), Value(data=-1.7170438259757805), Value(data=-0.5967908277997483), Value(data=1.1078482154267977), Value(data=0.4635067656819687), Value(data=0.644341449744829), Value(data=-0.2588482771285201), Value(data=0.9031897268733491), Value(data=0.4438409888839945), Value(data=-1.120252998176032), Value(data=-0.13835176313447667), Value(data=-0.34874546324482925), Value(data=-0.9132724376901205), Value(data=1.0), Value(data=0.5645269744452912), Value(data=0.9944833228916576), Value(data=1.0), Value(data=-0.42995634844636643), Value(data=0.13237653996079657), Value(data=0.5), Value(data=0), Value(data=15.699849555054644), Value(data=8.96329263823193), Value(data=8.96329263823193), Value(data=2.993875855514375), Value(data=1.0), Value(data=-1.0), Value(data=1.993875855514375), Value(data=-0.044619197648920396), Value(data=-1.8557469760311371), Value(data=0.8091973538482639), Value(data=-2.664944329879401), Value(data=-0.19550569333286025), Value(data=-2.4694386365465406), Value(data=-2.1898082206454865), Value(data=-0.279630415901054), Value(data=0.3709625774812747), Value(data=2.0384950531632953), Value(data=-0.7975092287254539), Value(data=2.4113844555638035), Value(data=0.8207344736426977), Value(data=1.5906499819211057), Value(data=-0.12930627297777914), Value(data=1.719956254898885), Value(data=0.3291076495131304), Value(data=1.3908486053857545), Value(data=0.5651840046574638), Value(data=2.836004281888749), Value(data=0.9754623221919171), Value(data=1.6740530097913187), Value(data=0.20908153701260257), Value(data=1.4649714727787162), Value(data=0.6402298707858527), Value(data=0.8247416019928635), Value(data=-0.5407415771806903), Value(data=1.3654831791735538), Value(data=1.0643471907028617), Value(data=1.860541959696832), Value(data=2.1381883315794643), Value(data=-2.8853934482388395), Value(data=0.04611659126734668), Value(data=-1.2270744274695242), Value(data=0.17202608246657314), Value(data=-1.3991005099360974), Value(data=-0.9195622671696242), Value(data=-0.47953824276647317), Value(data=0.05485500266425647), Value(data=-2.931510039506186), Value(data=0.48035892432333377), Value(data=0.7462740346272884), Value(data=0.4508087600256637), Value(data=0.29546527460162464), Value(data=-0.5582835134472584), Value(data=0.853748788048883), Value(data=1.5315606859253714), Value(data=-3.41186896382952), Value(data=-1.946298275654233), Value(data=3.612996331262826), Value(data=0.23175338284098435), Value(data=3.3812429484218414), Value(data=0.2588482771285201), Value(data=3.1223946712933213), Value(data=2.663045933303967), Value(data=-1.4655706881752868), Value(data=-0.4836694531337314), Value(data=-1.2191931903791016), Value(data=-0.4566362188450602), Value(data=0.5), Value(data=-0.7625569715340412), Value(data=-0.9944833228916576), Value(data=-1.0), Value(data=0.2319263513576164), Value(data=0.7942592397647794), Value(data=3.0), Value(data=0), Value(data=6.736556916822714), Value(data=6.736556916822714), Value(data=6.736556916822714), Value(data=-2.5954877993977767), Value(data=-1.0), Value(data=1.0), Value(data=-1.5954877993977765), Value(data=-0.09583001332044976), Value(data=-3.9856444490940133), Value(data=-1.2640461509548786), Value(data=-0.659452544795504), Value(data=-2.721598298139135), Value(data=-0.29248584982228526), Value(data=-0.2619757411639032), Value(data=-2.42911244831685), Value(data=-0.602856146554195), Value(data=-0.6060920133511727), Value(data=-1.8262563017626547), Value(data=-1.175663308380326), Value(data=-0.30426890537825746), Value(data=-0.6505929933823287), Value(data=0.024043793806603375), Value(data=-1.4996577860773268), Value(data=0.7773542004741268), Value(data=-2.3504428136666027), Value(data=-1.2820682710222586), Value(data=-0.668854680098923), Value(data=-1.068374542644344), Value(data=-0.1934483568970386), Value(data=-0.17326915714327185), Value(data=-0.8749261857473055), Value(data=0.09060362798734536), Value(data=0.09108994843570728), Value(data=-0.9655298137346509), Value(data=-1.7911944144629417), Value(data=-0.463572146824182), Value(data=0.8256646007282908), Value(data=-0.33072670220020517), Value(data=-2.2770119865514538), Value(data=-1.5089914380775478), Value(data=-2.589676301373377), Value(data=-0.32660600141565493), Value(data=-0.1703902651151903), Value(data=-2.2630702999577217), Value(data=0.9578144485009635), Value(data=0.8579018444687048), Value(data=-3.220884748458685), Value(data=-0.1488666360950537), Value(data=-0.14966568676024328), Value(data=-3.072018112363631), Value(data=-3.373154100834323), Value(data=-0.8729930572954632), Value(data=0.3011359884706921), Value(data=0.5826950021812718), Value(data=-0.7680205484739058), Value(data=-0.49037417659127347), Value(data=0.6617389195444646), Value(data=-0.07203866820550653), Value(data=1.9168113929211676), Value(data=-0.3440521649331463), Value(data=0.3440521649331463), Value(data=2.260863557854314), Value(data=2.7586868015088726), Value(data=0.9195622671696242), Value(data=-0.49782324365455866), Value(data=0.03657000177617098), Value(data=0.01828500088808549), Value(data=-0.5343932454307296), Value(data=-0.03758255427296975), Value(data=0.7337775877499711), Value(data=0.7186398810454203), Value(data=1.1164615796975401), Value(data=-0.9016175200513274), Value(data=0.9016175200513274), Value(data=2.0180790997488676), Value(data=1.674850540341775), Value(data=0.5582835134472584), Value(data=0.3432285594070925), Value(data=1.021040457283581), Value(data=0.5105202286417905), Value(data=-0.6778118978764884), Value(data=0.6436763200038702), Value(data=0.015137706704550835), Value(data=-0.5358176425879533), Value(data=0.9946610964578033), Value(data=-0.4635067656819687), Value(data=0.4635067656819687), Value(data=1.458167862139772), Value(data=-0.7765448313855603), Value(data=-0.2588482771285201), Value(data=2.2347126935253323), Value(data=1.775363955535978), Value(data=0.887681977767989), Value(data=0.4593487379893546), Value(data=-0.538693676163783), Value(data=0.5509553492925041), Value(data=1.5328565843340596), Value(data=3.863895677801117), Value(data=0.9132724376901205), Value(data=-1.0), Value(data=-0.9132724376901205), Value(data=2.950623240110996), Value(data=2.983449968674973), Value(data=3.0), Value(data=0.9944833228916576), Value(data=-0.032826728563976726), Value(data=0.5295061598431863), Value(data=2.0), Value(data=0.26475307992159314), Value(data=-0.562332888407163), Value(data=0.3967127252271947), Value(data=-0.9819012350415555), Value(data=-0.7410387421807423), Value(data=-0.2776463718826323), Value(data=0), Value(data=0)]\n"
     ]
    },
    {
     "data": {
      "text/plain": [
       "[-4.236725484047048,\n",
       " 13.561986366730896,\n",
       " -10.130119751760713,\n",
       " -1.1194449439119314,\n",
       " 1.7244815749514855,\n",
       " -5.520158362214759,\n",
       " 4.123279860765575,\n",
       " 0.4556495782456711,\n",
       " 0.4768683425433067,\n",
       " -1.5264812376090295,\n",
       " 1.1402044890510246,\n",
       " 0.12600010479362944,\n",
       " 0.8640120203316122,\n",
       " -2.76574899283676,\n",
       " 2.0658749937603362,\n",
       " 0.22829279151582982,\n",
       " 25.10483711536971,\n",
       " -14.084542277800693,\n",
       " -3.347328853813134,\n",
       " 10.727983870274262,\n",
       " -1.2632741616444014,\n",
       " -19.74048357397876,\n",
       " 11.074984243244293,\n",
       " 2.632078031486174,\n",
       " -8.435648811415897,\n",
       " 0.9933401568300062,\n",
       " 11.204326462076445,\n",
       " -6.285952345525617,\n",
       " -1.4939178884809186,\n",
       " 4.787915293378038,\n",
       " -0.5638011532647766,\n",
       " -0.8145532652908025,\n",
       " 0.45698802385318565,\n",
       " 0.10860766135807112,\n",
       " -0.3480808997629011,\n",
       " 0.04098828001138356,\n",
       " -21.900732561406105,\n",
       " 33.58585094648602,\n",
       " 27.743998287225672,\n",
       " 6.042724159639908,\n",
       " 1.7047343002969262]"
      ]
     },
     "execution_count": 12,
     "metadata": {},
     "output_type": "execute_result"
    }
   ],
   "source": [
    "loss.zero_grad()\n",
    "loss.backward()\n",
    "weights = mlp.get_weights()\n",
    "gradients = mlp.get_gradients()\n",
    "mlp.get_gradients()"
   ]
  },
  {
   "cell_type": "code",
   "execution_count": 61,
   "metadata": {},
   "outputs": [],
   "source": [
    "learning_rate = 0.01\n",
    "for weight in weights:\n",
    "  weight.data -= learning_rate * weight.grad"
   ]
  },
  {
   "cell_type": "code",
   "execution_count": 62,
   "metadata": {},
   "outputs": [
    {
     "data": {
      "text/plain": [
       "Value(data=2.0657631306157977)"
      ]
     },
     "execution_count": 62,
     "metadata": {},
     "output_type": "execute_result"
    }
   ],
   "source": [
    "preds = [mlp(x) for x in xs]\n",
    "\n",
    "loss = Value(0)\n",
    "for pred, target in zip(preds, ys):\n",
    "  example_squared_error = Value(0)\n",
    "  for idx in range(len(pred)): # compare each element\n",
    "    example_squared_error += (pred[idx] - target[idx]) ** 2\n",
    "  loss += example_squared_error\n",
    "\n",
    "loss"
   ]
  },
  {
   "cell_type": "code",
   "execution_count": 63,
   "metadata": {},
   "outputs": [],
   "source": [
    "# not normalizing loss seems to make the gradients larger. checks out since the height of the loss function becomes much larger in general. loss function landscape becomes far steeper. input space does not scale in comparison. you would have to change the learning rate to be much smaller to compensate for the larger gradients. \n",
    "# if you change your dataset/batch size, you'd have to change learning rate. kinda fiddly and annoying. makes far more sense to just normalize and change lr much less. "
   ]
  },
  {
   "cell_type": "code",
   "execution_count": null,
   "metadata": {},
   "outputs": [],
   "source": [
    "# in the current implementation, some unnecessary gradients are calculated. also evaluates how a change in input affects the target node, which is not strictly necessary. also for the normalization factor it does the same, which is also not necessary. \n",
    "# all in all, if i were to implement this in C, managing memory would be a pain. sounds like a good excercise to do. :)"
   ]
  }
 ],
 "metadata": {
  "kernelspec": {
   "display_name": "3.11.2",
   "language": "python",
   "name": "python3"
  },
  "language_info": {
   "codemirror_mode": {
    "name": "ipython",
    "version": 3
   },
   "file_extension": ".py",
   "mimetype": "text/x-python",
   "name": "python",
   "nbconvert_exporter": "python",
   "pygments_lexer": "ipython3",
   "version": "3.11.2"
  }
 },
 "nbformat": 4,
 "nbformat_minor": 2
}
